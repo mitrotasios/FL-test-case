{
 "cells": [
  {
   "cell_type": "markdown",
   "metadata": {},
   "source": [
    "# Introduction\n",
    "### Insurance Fraud and Federated Learning\n",
    "The purpose of the following Notebook it to test the possible application of Federated Learning to insurance fraud cases regarding claims.\n",
    "Conservative estimates from the Coalition Against Insurance Fraud place the dollar amount of annual insurance fraud losses (in the US) at $80 billion (source: https://bit.ly/34TuCvf). Especially small insurers rely on inefficient manual work to detect claim frauds and cannot afford to gather and label enough data to train and evaluate accurate Machine Learning models in order to automate this process. This in turn would result in significant time and costs savings as well as potentially increase detection accuracy. A Federated Learning approach could enable various insurers to cooperate by training models on their individual datasets seperately and build a more accurate aggreagated predictive model, by keeping the sensitive data private and in the hands of the dataset owners.\n",
    "\n",
    "### Hypothesis and Test Design\n",
    "In order to test the possibility of applying a Federated Learning approach to insurance fraud, a public dataset with credit card transactions is used, where samples are classified into fraudulent and non-fraudulent transactions. The data consists of **highly imbalanced** financial data and can therefore be used as a comparison to claims use cases in insurance.\n",
    "\n",
    "The machine learning models which are primarily used in this analysis are: \n",
    "* **XGBoost** (Extreme Gradient Boosting) \n",
    "* **Random Forest**\n",
    "* **Logistic Regression**\n",
    "\n",
    "The models are evaluated using the ROC-AUC score, testing the models' separability, i.e. their ability to distinguish between the positive class (fraud) and negative class (not fraud).\n",
    "\n",
    "The underlying hypothesis is that, if Federated Learning can be applied to such a case, then the accuracy of models trained on a smaller subset of the whole dataset is substantially lower than the overall accuracy of models trained on the complete dataset. Assuming that this is the case, it would imply that there is an incentive for insurers lacking the required resources, i.e. training data, to build a sufficiently accurate model.\n",
    "\n",
    "##### Approach\n",
    "The analysis starts by testing three different Machine Learning model and applying it to the given credit card fraud dataset, in order to identify a suitable model to test the application of a Federated Learning approach on a fraud detection scenario.\n",
    "\n",
    "After chosing the Random Forest as the classifier which will be used, the dataset was first divided into two halves (50:50 split) and further subdivided into one third (1:3 split). In these cases, the model performance seems to decrease slightly every time the dataset is made smaller. \n",
    "\n",
    "At this point, the dataset cannot be split further into smaller subsets, since the total amount of fraudulent observations would be insufficient in order to draw a conclusion with high certainty, without the influence of random factors. Thus, the number of fraudulent observaions is increased in the smaller (1:3) dataset, increasing the fraud-percentage from **0.17% to 0.69%**. Moreover, the train size will be significantly decreased to just n=7157 observations. This test case also comes closer to a more realisitc scenario of a small insurer, which may have less data and more fraudulent observations.\n",
    "\n",
    "### Dataset\n",
    "The dataset is obtained from Kaggle and is described as follows:\n",
    "\n",
    "* The dataset contains only numerical input variables which are the result of a **PCA transformation**\n",
    "* Due to confidentiality issues, the original features cannot be  provided. \n",
    "* Features V1, V2, … V28 are the principal components obtained with PCA, the only features which have not been transformed with PCA are 'Time' and 'Amount'.\n",
    "* Feature 'Time' contains the seconds elapsed between each transaction and the first transaction in the dataset\n",
    "* The feature 'Amount' is the transaction Amount\n",
    "* Feature 'Class' is the response variable and it takes value **1 in case of fraud and 0 otherwise**\n",
    "\n",
    "### Results\n",
    "The graph below indicates that the model performance of the chosen best performing model, Random Forest Classifier, decreases when decreasing the size of the dataset, while keeping the fraud-percentage unchanged. However the prediction accuracy does not decrease significantly. Moreover, when the fraud-percentage is increased in the last test, the model achieves the highest accuracy from all the predictions so far.\n",
    "\n",
    "<p><center><b>ROC-AUC using a Random Forest Classifier</b></center></p>\n",
    "\n",
    "![Comparison of model performance by dataset](comparison.png)\n",
    "\n",
    "Since the model performance does not decrease to a significant degree and it even increases when there are more relative fraudulent observations in the data, the question arises, if there would be an incentive for insurance companies to cooperate within a Federated Learning context. In a test case, where there are sufficient fraudulent observations, which would probably occur in a Health or P&C claims scenario, the predictions are satisfying, even with a small amount of observations in the training data. \n",
    "\n",
    "**However, in order to draw a certain conclusion, a similar analysis needs to be done on an insurance related dataset.**"
   ]
  },
  {
   "cell_type": "markdown",
   "metadata": {},
   "source": [
    "# Analysis\n",
    "We will start by analysing the initial, complete dataset and identify the best suited model for this data. In the following sections we will split the dataset into subsamples and modify the fraud to non-fraud ratio.\n",
    "\n",
    "**NOTE**: The terms 'fraud-percentage' and 'fraud-ratio' are used interchangeably throughout the notebook and refer to the sum of fraudulent observations divided by all the observations in the dataset: **sum(fraud)/sum(n)**"
   ]
  },
  {
   "cell_type": "markdown",
   "metadata": {},
   "source": [
    "### Import Packages"
   ]
  },
  {
   "cell_type": "code",
   "execution_count": 531,
   "metadata": {
    "scrolled": true
   },
   "outputs": [],
   "source": [
    "import pandas as pd\n",
    "import numpy as np\n",
    "\n",
    "import matplotlib.pyplot as plt\n",
    "import seaborn as sns\n",
    "\n",
    "import xgboost as xgb\n",
    "#import lightgbm as lgb\n",
    "from sklearn.ensemble import RandomForestClassifier\n",
    "from sklearn.linear_model import LogisticRegression\n",
    "\n",
    "from sklearn.preprocessing import RobustScaler\n",
    "from sklearn.model_selection import train_test_split, GridSearchCV\n",
    "from sklearn.metrics import roc_auc_score, roc_curve\n",
    "from sklearn.metrics import plot_roc_curve\n",
    "from sklearn.metrics import confusion_matrix, plot_confusion_matrix\n",
    "from sklearn.model_selection import StratifiedKFold"
   ]
  },
  {
   "cell_type": "markdown",
   "metadata": {},
   "source": [
    "# Complete Dataset"
   ]
  },
  {
   "cell_type": "markdown",
   "metadata": {},
   "source": [
    "## Data Exploration"
   ]
  },
  {
   "cell_type": "code",
   "execution_count": 532,
   "metadata": {},
   "outputs": [],
   "source": [
    "# Loading the dataset\n",
    "df = pd.read_csv(\"datasets/creditcard.csv\")"
   ]
  },
  {
   "cell_type": "markdown",
   "metadata": {},
   "source": [
    "#### Check Columns and Data Types"
   ]
  },
  {
   "cell_type": "markdown",
   "metadata": {},
   "source": [
    "As previously stated, the column names are anonimized due to confidentiality. "
   ]
  },
  {
   "cell_type": "code",
   "execution_count": 533,
   "metadata": {},
   "outputs": [
    {
     "name": "stdout",
     "output_type": "stream",
     "text": [
      "Amount of coulumns:  31\n",
      "Index(['Time', 'V1', 'V2', 'V3', 'V4', 'V5', 'V6', 'V7', 'V8', 'V9', 'V10',\n",
      "       'V11', 'V12', 'V13', 'V14', 'V15', 'V16', 'V17', 'V18', 'V19', 'V20',\n",
      "       'V21', 'V22', 'V23', 'V24', 'V25', 'V26', 'V27', 'V28', 'Amount',\n",
      "       'Class'],\n",
      "      dtype='object')\n"
     ]
    }
   ],
   "source": [
    "print(\"Amount of coulumns: \", len(df.columns))\n",
    "print(df.columns)"
   ]
  },
  {
   "cell_type": "markdown",
   "metadata": {},
   "source": [
    "The columns are all in **float** type, since the values have been transformed within a PCA and the resulting values are the Pricipal Components."
   ]
  },
  {
   "cell_type": "code",
   "execution_count": 534,
   "metadata": {
    "scrolled": true
   },
   "outputs": [
    {
     "name": "stdout",
     "output_type": "stream",
     "text": [
      "<class 'pandas.core.frame.DataFrame'>\n",
      "RangeIndex: 284807 entries, 0 to 284806\n",
      "Data columns (total 31 columns):\n",
      " #   Column  Non-Null Count   Dtype  \n",
      "---  ------  --------------   -----  \n",
      " 0   Time    284807 non-null  float64\n",
      " 1   V1      284807 non-null  float64\n",
      " 2   V2      284807 non-null  float64\n",
      " 3   V3      284807 non-null  float64\n",
      " 4   V4      284807 non-null  float64\n",
      " 5   V5      284807 non-null  float64\n",
      " 6   V6      284807 non-null  float64\n",
      " 7   V7      284807 non-null  float64\n",
      " 8   V8      284807 non-null  float64\n",
      " 9   V9      284807 non-null  float64\n",
      " 10  V10     284807 non-null  float64\n",
      " 11  V11     284807 non-null  float64\n",
      " 12  V12     284807 non-null  float64\n",
      " 13  V13     284807 non-null  float64\n",
      " 14  V14     284807 non-null  float64\n",
      " 15  V15     284807 non-null  float64\n",
      " 16  V16     284807 non-null  float64\n",
      " 17  V17     284807 non-null  float64\n",
      " 18  V18     284807 non-null  float64\n",
      " 19  V19     284807 non-null  float64\n",
      " 20  V20     284807 non-null  float64\n",
      " 21  V21     284807 non-null  float64\n",
      " 22  V22     284807 non-null  float64\n",
      " 23  V23     284807 non-null  float64\n",
      " 24  V24     284807 non-null  float64\n",
      " 25  V25     284807 non-null  float64\n",
      " 26  V26     284807 non-null  float64\n",
      " 27  V27     284807 non-null  float64\n",
      " 28  V28     284807 non-null  float64\n",
      " 29  Amount  284807 non-null  float64\n",
      " 30  Class   284807 non-null  int64  \n",
      "dtypes: float64(30), int64(1)\n",
      "memory usage: 67.4 MB\n"
     ]
    }
   ],
   "source": [
    "df.info()"
   ]
  },
  {
   "cell_type": "code",
   "execution_count": 535,
   "metadata": {},
   "outputs": [
    {
     "data": {
      "text/html": [
       "<div>\n",
       "<style scoped>\n",
       "    .dataframe tbody tr th:only-of-type {\n",
       "        vertical-align: middle;\n",
       "    }\n",
       "\n",
       "    .dataframe tbody tr th {\n",
       "        vertical-align: top;\n",
       "    }\n",
       "\n",
       "    .dataframe thead th {\n",
       "        text-align: right;\n",
       "    }\n",
       "</style>\n",
       "<table border=\"1\" class=\"dataframe\">\n",
       "  <thead>\n",
       "    <tr style=\"text-align: right;\">\n",
       "      <th></th>\n",
       "      <th>0</th>\n",
       "      <th>1</th>\n",
       "      <th>2</th>\n",
       "      <th>3</th>\n",
       "      <th>4</th>\n",
       "    </tr>\n",
       "  </thead>\n",
       "  <tbody>\n",
       "    <tr>\n",
       "      <th>Time</th>\n",
       "      <td>0.000000</td>\n",
       "      <td>0.000000</td>\n",
       "      <td>1.000000</td>\n",
       "      <td>1.000000</td>\n",
       "      <td>2.000000</td>\n",
       "    </tr>\n",
       "    <tr>\n",
       "      <th>V1</th>\n",
       "      <td>-1.359807</td>\n",
       "      <td>1.191857</td>\n",
       "      <td>-1.358354</td>\n",
       "      <td>-0.966272</td>\n",
       "      <td>-1.158233</td>\n",
       "    </tr>\n",
       "    <tr>\n",
       "      <th>V2</th>\n",
       "      <td>-0.072781</td>\n",
       "      <td>0.266151</td>\n",
       "      <td>-1.340163</td>\n",
       "      <td>-0.185226</td>\n",
       "      <td>0.877737</td>\n",
       "    </tr>\n",
       "    <tr>\n",
       "      <th>V3</th>\n",
       "      <td>2.536347</td>\n",
       "      <td>0.166480</td>\n",
       "      <td>1.773209</td>\n",
       "      <td>1.792993</td>\n",
       "      <td>1.548718</td>\n",
       "    </tr>\n",
       "    <tr>\n",
       "      <th>V4</th>\n",
       "      <td>1.378155</td>\n",
       "      <td>0.448154</td>\n",
       "      <td>0.379780</td>\n",
       "      <td>-0.863291</td>\n",
       "      <td>0.403034</td>\n",
       "    </tr>\n",
       "    <tr>\n",
       "      <th>V5</th>\n",
       "      <td>-0.338321</td>\n",
       "      <td>0.060018</td>\n",
       "      <td>-0.503198</td>\n",
       "      <td>-0.010309</td>\n",
       "      <td>-0.407193</td>\n",
       "    </tr>\n",
       "    <tr>\n",
       "      <th>V6</th>\n",
       "      <td>0.462388</td>\n",
       "      <td>-0.082361</td>\n",
       "      <td>1.800499</td>\n",
       "      <td>1.247203</td>\n",
       "      <td>0.095921</td>\n",
       "    </tr>\n",
       "    <tr>\n",
       "      <th>V7</th>\n",
       "      <td>0.239599</td>\n",
       "      <td>-0.078803</td>\n",
       "      <td>0.791461</td>\n",
       "      <td>0.237609</td>\n",
       "      <td>0.592941</td>\n",
       "    </tr>\n",
       "    <tr>\n",
       "      <th>V8</th>\n",
       "      <td>0.098698</td>\n",
       "      <td>0.085102</td>\n",
       "      <td>0.247676</td>\n",
       "      <td>0.377436</td>\n",
       "      <td>-0.270533</td>\n",
       "    </tr>\n",
       "    <tr>\n",
       "      <th>V9</th>\n",
       "      <td>0.363787</td>\n",
       "      <td>-0.255425</td>\n",
       "      <td>-1.514654</td>\n",
       "      <td>-1.387024</td>\n",
       "      <td>0.817739</td>\n",
       "    </tr>\n",
       "    <tr>\n",
       "      <th>V10</th>\n",
       "      <td>0.090794</td>\n",
       "      <td>-0.166974</td>\n",
       "      <td>0.207643</td>\n",
       "      <td>-0.054952</td>\n",
       "      <td>0.753074</td>\n",
       "    </tr>\n",
       "    <tr>\n",
       "      <th>V11</th>\n",
       "      <td>-0.551600</td>\n",
       "      <td>1.612727</td>\n",
       "      <td>0.624501</td>\n",
       "      <td>-0.226487</td>\n",
       "      <td>-0.822843</td>\n",
       "    </tr>\n",
       "    <tr>\n",
       "      <th>V12</th>\n",
       "      <td>-0.617801</td>\n",
       "      <td>1.065235</td>\n",
       "      <td>0.066084</td>\n",
       "      <td>0.178228</td>\n",
       "      <td>0.538196</td>\n",
       "    </tr>\n",
       "    <tr>\n",
       "      <th>V13</th>\n",
       "      <td>-0.991390</td>\n",
       "      <td>0.489095</td>\n",
       "      <td>0.717293</td>\n",
       "      <td>0.507757</td>\n",
       "      <td>1.345852</td>\n",
       "    </tr>\n",
       "    <tr>\n",
       "      <th>V14</th>\n",
       "      <td>-0.311169</td>\n",
       "      <td>-0.143772</td>\n",
       "      <td>-0.165946</td>\n",
       "      <td>-0.287924</td>\n",
       "      <td>-1.119670</td>\n",
       "    </tr>\n",
       "    <tr>\n",
       "      <th>V15</th>\n",
       "      <td>1.468177</td>\n",
       "      <td>0.635558</td>\n",
       "      <td>2.345865</td>\n",
       "      <td>-0.631418</td>\n",
       "      <td>0.175121</td>\n",
       "    </tr>\n",
       "    <tr>\n",
       "      <th>V16</th>\n",
       "      <td>-0.470401</td>\n",
       "      <td>0.463917</td>\n",
       "      <td>-2.890083</td>\n",
       "      <td>-1.059647</td>\n",
       "      <td>-0.451449</td>\n",
       "    </tr>\n",
       "    <tr>\n",
       "      <th>V17</th>\n",
       "      <td>0.207971</td>\n",
       "      <td>-0.114805</td>\n",
       "      <td>1.109969</td>\n",
       "      <td>-0.684093</td>\n",
       "      <td>-0.237033</td>\n",
       "    </tr>\n",
       "    <tr>\n",
       "      <th>V18</th>\n",
       "      <td>0.025791</td>\n",
       "      <td>-0.183361</td>\n",
       "      <td>-0.121359</td>\n",
       "      <td>1.965775</td>\n",
       "      <td>-0.038195</td>\n",
       "    </tr>\n",
       "    <tr>\n",
       "      <th>V19</th>\n",
       "      <td>0.403993</td>\n",
       "      <td>-0.145783</td>\n",
       "      <td>-2.261857</td>\n",
       "      <td>-1.232622</td>\n",
       "      <td>0.803487</td>\n",
       "    </tr>\n",
       "    <tr>\n",
       "      <th>V20</th>\n",
       "      <td>0.251412</td>\n",
       "      <td>-0.069083</td>\n",
       "      <td>0.524980</td>\n",
       "      <td>-0.208038</td>\n",
       "      <td>0.408542</td>\n",
       "    </tr>\n",
       "    <tr>\n",
       "      <th>V21</th>\n",
       "      <td>-0.018307</td>\n",
       "      <td>-0.225775</td>\n",
       "      <td>0.247998</td>\n",
       "      <td>-0.108300</td>\n",
       "      <td>-0.009431</td>\n",
       "    </tr>\n",
       "    <tr>\n",
       "      <th>V22</th>\n",
       "      <td>0.277838</td>\n",
       "      <td>-0.638672</td>\n",
       "      <td>0.771679</td>\n",
       "      <td>0.005274</td>\n",
       "      <td>0.798278</td>\n",
       "    </tr>\n",
       "    <tr>\n",
       "      <th>V23</th>\n",
       "      <td>-0.110474</td>\n",
       "      <td>0.101288</td>\n",
       "      <td>0.909412</td>\n",
       "      <td>-0.190321</td>\n",
       "      <td>-0.137458</td>\n",
       "    </tr>\n",
       "    <tr>\n",
       "      <th>V24</th>\n",
       "      <td>0.066928</td>\n",
       "      <td>-0.339846</td>\n",
       "      <td>-0.689281</td>\n",
       "      <td>-1.175575</td>\n",
       "      <td>0.141267</td>\n",
       "    </tr>\n",
       "    <tr>\n",
       "      <th>V25</th>\n",
       "      <td>0.128539</td>\n",
       "      <td>0.167170</td>\n",
       "      <td>-0.327642</td>\n",
       "      <td>0.647376</td>\n",
       "      <td>-0.206010</td>\n",
       "    </tr>\n",
       "    <tr>\n",
       "      <th>V26</th>\n",
       "      <td>-0.189115</td>\n",
       "      <td>0.125895</td>\n",
       "      <td>-0.139097</td>\n",
       "      <td>-0.221929</td>\n",
       "      <td>0.502292</td>\n",
       "    </tr>\n",
       "    <tr>\n",
       "      <th>V27</th>\n",
       "      <td>0.133558</td>\n",
       "      <td>-0.008983</td>\n",
       "      <td>-0.055353</td>\n",
       "      <td>0.062723</td>\n",
       "      <td>0.219422</td>\n",
       "    </tr>\n",
       "    <tr>\n",
       "      <th>V28</th>\n",
       "      <td>-0.021053</td>\n",
       "      <td>0.014724</td>\n",
       "      <td>-0.059752</td>\n",
       "      <td>0.061458</td>\n",
       "      <td>0.215153</td>\n",
       "    </tr>\n",
       "    <tr>\n",
       "      <th>Amount</th>\n",
       "      <td>149.620000</td>\n",
       "      <td>2.690000</td>\n",
       "      <td>378.660000</td>\n",
       "      <td>123.500000</td>\n",
       "      <td>69.990000</td>\n",
       "    </tr>\n",
       "    <tr>\n",
       "      <th>Class</th>\n",
       "      <td>0.000000</td>\n",
       "      <td>0.000000</td>\n",
       "      <td>0.000000</td>\n",
       "      <td>0.000000</td>\n",
       "      <td>0.000000</td>\n",
       "    </tr>\n",
       "  </tbody>\n",
       "</table>\n",
       "</div>"
      ],
      "text/plain": [
       "                 0         1           2           3          4\n",
       "Time      0.000000  0.000000    1.000000    1.000000   2.000000\n",
       "V1       -1.359807  1.191857   -1.358354   -0.966272  -1.158233\n",
       "V2       -0.072781  0.266151   -1.340163   -0.185226   0.877737\n",
       "V3        2.536347  0.166480    1.773209    1.792993   1.548718\n",
       "V4        1.378155  0.448154    0.379780   -0.863291   0.403034\n",
       "V5       -0.338321  0.060018   -0.503198   -0.010309  -0.407193\n",
       "V6        0.462388 -0.082361    1.800499    1.247203   0.095921\n",
       "V7        0.239599 -0.078803    0.791461    0.237609   0.592941\n",
       "V8        0.098698  0.085102    0.247676    0.377436  -0.270533\n",
       "V9        0.363787 -0.255425   -1.514654   -1.387024   0.817739\n",
       "V10       0.090794 -0.166974    0.207643   -0.054952   0.753074\n",
       "V11      -0.551600  1.612727    0.624501   -0.226487  -0.822843\n",
       "V12      -0.617801  1.065235    0.066084    0.178228   0.538196\n",
       "V13      -0.991390  0.489095    0.717293    0.507757   1.345852\n",
       "V14      -0.311169 -0.143772   -0.165946   -0.287924  -1.119670\n",
       "V15       1.468177  0.635558    2.345865   -0.631418   0.175121\n",
       "V16      -0.470401  0.463917   -2.890083   -1.059647  -0.451449\n",
       "V17       0.207971 -0.114805    1.109969   -0.684093  -0.237033\n",
       "V18       0.025791 -0.183361   -0.121359    1.965775  -0.038195\n",
       "V19       0.403993 -0.145783   -2.261857   -1.232622   0.803487\n",
       "V20       0.251412 -0.069083    0.524980   -0.208038   0.408542\n",
       "V21      -0.018307 -0.225775    0.247998   -0.108300  -0.009431\n",
       "V22       0.277838 -0.638672    0.771679    0.005274   0.798278\n",
       "V23      -0.110474  0.101288    0.909412   -0.190321  -0.137458\n",
       "V24       0.066928 -0.339846   -0.689281   -1.175575   0.141267\n",
       "V25       0.128539  0.167170   -0.327642    0.647376  -0.206010\n",
       "V26      -0.189115  0.125895   -0.139097   -0.221929   0.502292\n",
       "V27       0.133558 -0.008983   -0.055353    0.062723   0.219422\n",
       "V28      -0.021053  0.014724   -0.059752    0.061458   0.215153\n",
       "Amount  149.620000  2.690000  378.660000  123.500000  69.990000\n",
       "Class     0.000000  0.000000    0.000000    0.000000   0.000000"
      ]
     },
     "execution_count": 535,
     "metadata": {},
     "output_type": "execute_result"
    }
   ],
   "source": [
    "# Overview of the values\n",
    "df.head().transpose()"
   ]
  },
  {
   "cell_type": "markdown",
   "metadata": {},
   "source": [
    "#### Fraud vs Non-Fraud"
   ]
  },
  {
   "cell_type": "code",
   "execution_count": 536,
   "metadata": {
    "code_folding": [
     0
    ]
   },
   "outputs": [],
   "source": [
    "# Fraud and Non-Fraud dfs\n",
    "fraud_df = df.loc[df[\"Class\"] == 1]\n",
    "non_fraud_df = df.loc[df[\"Class\"] == 0]\n",
    "\n",
    "num_fraud = len(fraud_df)\n",
    "num_non_fraud = len(non_fraud_df)\n",
    "\n",
    "fraud_pct = len(fraud_df)/len(non_fraud_df)"
   ]
  },
  {
   "cell_type": "code",
   "execution_count": 537,
   "metadata": {
    "code_folding": [
     0
    ]
   },
   "outputs": [
    {
     "name": "stdout",
     "output_type": "stream",
     "text": [
      "Number of fraudulent transactions: 492\n",
      "Number of valid transactions: 284315\n",
      "Fraud to Non-Fraud Ratio: 0.0017304750013189597\n"
     ]
    }
   ],
   "source": [
    "# Ratio\n",
    "print(\"Number of fraudulent transactions:\", num_fraud)\n",
    "print(\"Number of valid transactions:\", num_non_fraud)\n",
    "print(\"Fraud to Non-Fraud Ratio:\", fraud_pct)"
   ]
  },
  {
   "cell_type": "markdown",
   "metadata": {},
   "source": [
    "#### Count Null values"
   ]
  },
  {
   "cell_type": "markdown",
   "metadata": {},
   "source": [
    "The dataset does not contain any missing values, so no further transformations will be necessary."
   ]
  },
  {
   "cell_type": "code",
   "execution_count": 538,
   "metadata": {
    "code_folding": [
     0
    ],
    "scrolled": true
   },
   "outputs": [
    {
     "name": "stdout",
     "output_type": "stream",
     "text": [
      "Number of missing values:  0\n"
     ]
    }
   ],
   "source": [
    "# Check if dataset conatins missing values\n",
    "print(\"Number of missing values: \", df.isnull().sum().max())"
   ]
  },
  {
   "cell_type": "markdown",
   "metadata": {},
   "source": [
    "#### Analyse Transaction Amount"
   ]
  },
  {
   "cell_type": "markdown",
   "metadata": {},
   "source": [
    "We will have a closer look into the only columns which have not been transformed within the PCA:\n",
    "**Amount and Time**\n",
    "\n",
    "Additionally, the transaction amount will be further split into the fraudulent and non fraudulent transactions, in order to detect possible differences regarding the amount of the two classes. \n",
    "\n",
    "As a result we can see, that fraudulent transactions are on average higher than the non fraudulent ones. However, this is due to the fact that fraudulent transactions are higher above the 75 percetile mark, indicating that there are a few high transactions pulling up the mean. This is reflected in the lower median of the non fraudulent transactions. The distribution of the amount in the two classes is also similar.\n",
    "\n",
    "Thus we cannot draw a conclusion as of how the transaction is influencing the classification."
   ]
  },
  {
   "cell_type": "code",
   "execution_count": 539,
   "metadata": {},
   "outputs": [],
   "source": [
    "nfraud_amount = df.loc[df['Class'] == 0]['Amount']"
   ]
  },
  {
   "cell_type": "code",
   "execution_count": 540,
   "metadata": {},
   "outputs": [],
   "source": [
    "fraud_amount = df.loc[df['Class'] == 1]['Amount']"
   ]
  },
  {
   "cell_type": "markdown",
   "metadata": {},
   "source": [
    "**Non-Fraudulent Transactions:**"
   ]
  },
  {
   "cell_type": "code",
   "execution_count": 541,
   "metadata": {},
   "outputs": [
    {
     "data": {
      "text/plain": [
       "count    284315.000000\n",
       "mean         88.291022\n",
       "std         250.105092\n",
       "min           0.000000\n",
       "25%           5.650000\n",
       "50%          22.000000\n",
       "75%          77.050000\n",
       "max       25691.160000\n",
       "Name: Amount, dtype: float64"
      ]
     },
     "execution_count": 541,
     "metadata": {},
     "output_type": "execute_result"
    }
   ],
   "source": [
    "nfraud_amount.describe()"
   ]
  },
  {
   "cell_type": "code",
   "execution_count": 542,
   "metadata": {
    "code_folding": [
     0
    ]
   },
   "outputs": [
    {
     "data": {
      "text/plain": [
       "Text(0.5, 0, 'Transaction Amount')"
      ]
     },
     "execution_count": 542,
     "metadata": {},
     "output_type": "execute_result"
    },
    {
     "data": {
      "image/png": "[encoded data removed]",
      "text/plain": [
       "<Figure size 1080x360 with 2 Axes>"
      ]
     },
     "metadata": {
      "needs_background": "light"
     },
     "output_type": "display_data"
    }
   ],
   "source": [
    "# Create subplots\n",
    "f = plt.figure(figsize=(15,5))\n",
    "ax1 = f.add_subplot(121)\n",
    "ax2 = f.add_subplot(122)\n",
    "\n",
    "# Boxplot\n",
    "ax1.boxplot(nfraud_amount)\n",
    "ax1.set_ylim([0, 300])\n",
    "ax1.title.set_text('Transaction Amount Boxplot')\n",
    "ax1.set_ylabel('Transaction Amount')\n",
    "\n",
    "# Histogram\n",
    "ax2.hist(nfraud_amount, density=True, bins=1000, label=\"Data\")\n",
    "ax2.set_xlim([0, 1500])\n",
    "ax2.title.set_text('Transaction Amount Distribution')\n",
    "ax2.set_xlabel('Transaction Amount')"
   ]
  },
  {
   "cell_type": "markdown",
   "metadata": {},
   "source": [
    "**Fraudulent Transactions:**"
   ]
  },
  {
   "cell_type": "code",
   "execution_count": 543,
   "metadata": {},
   "outputs": [
    {
     "data": {
      "text/plain": [
       "count     492.000000\n",
       "mean      122.211321\n",
       "std       256.683288\n",
       "min         0.000000\n",
       "25%         1.000000\n",
       "50%         9.250000\n",
       "75%       105.890000\n",
       "max      2125.870000\n",
       "Name: Amount, dtype: float64"
      ]
     },
     "execution_count": 543,
     "metadata": {},
     "output_type": "execute_result"
    }
   ],
   "source": [
    "fraud_amount.describe()"
   ]
  },
  {
   "cell_type": "code",
   "execution_count": 544,
   "metadata": {
    "code_folding": [
     0
    ]
   },
   "outputs": [
    {
     "data": {
      "text/plain": [
       "Text(0.5, 0, 'Transaction Amount')"
      ]
     },
     "execution_count": 544,
     "metadata": {},
     "output_type": "execute_result"
    },
    {
     "data": {
      "image/png": "[encoded data removed]",
      "text/plain": [
       "<Figure size 1080x360 with 2 Axes>"
      ]
     },
     "metadata": {
      "needs_background": "light"
     },
     "output_type": "display_data"
    }
   ],
   "source": [
    "# Create subplots\n",
    "f = plt.figure(figsize=(15,5))\n",
    "ax1 = f.add_subplot(121)\n",
    "ax2 = f.add_subplot(122)\n",
    "\n",
    "# Boxplot\n",
    "ax1.boxplot(fraud_amount)\n",
    "ax1.set_ylim([0, 300])\n",
    "ax1.title.set_text('Transaction Amount Boxplot')\n",
    "ax1.set_ylabel('Transaction Amount')\n",
    "\n",
    "# Histogram\n",
    "ax2.hist(fraud_amount, density=True, bins=100, label=\"Data\")\n",
    "ax2.set_xlim([0, 1500])\n",
    "ax2.title.set_text('Transaction Amount Distribution')\n",
    "ax2.set_xlabel('Transaction Amount')"
   ]
  },
  {
   "cell_type": "markdown",
   "metadata": {},
   "source": [
    "#### Correlation Matrix"
   ]
  },
  {
   "cell_type": "markdown",
   "metadata": {},
   "source": [
    "In order to depict the correlations between the features a balanced dataset needs to be created, since imbalanced data affects the correaltion coefficents by making them less \"clear\"."
   ]
  },
  {
   "cell_type": "code",
   "execution_count": 545,
   "metadata": {
    "code_folding": [
     0
    ]
   },
   "outputs": [],
   "source": [
    "# Create balanced dataset\n",
    "temp = non_fraud_df.sample(n=num_fraud, random_state=1)\n",
    "df_balanced = fraud_df[:]\n",
    "df_balanced = df_balanced.append(temp)\n",
    "\n",
    "df_balanced = df_balanced.sample(frac=1).reset_index()"
   ]
  },
  {
   "cell_type": "code",
   "execution_count": 546,
   "metadata": {
    "code_folding": [
     0
    ]
   },
   "outputs": [
    {
     "name": "stdout",
     "output_type": "stream",
     "text": [
      "Observations in balanced dataset: n = 984\n"
     ]
    }
   ],
   "source": [
    "# Balanced df n observations\n",
    "print(\"Observations in balanced dataset: n =\", len(df_balanced))"
   ]
  },
  {
   "cell_type": "code",
   "execution_count": 547,
   "metadata": {
    "code_folding": [
     0
    ]
   },
   "outputs": [
    {
     "name": "stdout",
     "output_type": "stream",
     "text": [
      "Fraud Ratio: 0.5\n"
     ]
    }
   ],
   "source": [
    "# Make sure dataset is balanced\n",
    "fraud_ratio = sum(df_balanced['Class']) / len(df_balanced)\n",
    "print(\"Fraud Ratio:\", fraud_ratio)"
   ]
  },
  {
   "cell_type": "code",
   "execution_count": 548,
   "metadata": {
    "code_folding": [
     0
    ]
   },
   "outputs": [
    {
     "data": {
      "image/png": "[encoded data removed]",
      "text/plain": [
       "<Figure size 1440x720 with 2 Axes>"
      ]
     },
     "metadata": {
      "needs_background": "light"
     },
     "output_type": "display_data"
    }
   ],
   "source": [
    "# Create and plot Correlation Matrix\n",
    "# Figure with figsize\n",
    "fig, ax = plt.subplots(figsize=(20,10))\n",
    "\n",
    "# Plot correlation matrix\n",
    "corr = df_balanced.corr()\n",
    "sns.heatmap(corr, cmap='vlag', ax=ax)\n",
    "ax.set_title(\"Correlation Matrix\", fontsize=14)\n",
    "plt.show()"
   ]
  },
  {
   "cell_type": "markdown",
   "metadata": {},
   "source": [
    "### Pre-Processing"
   ]
  },
  {
   "cell_type": "markdown",
   "metadata": {},
   "source": [
    "As mentioned before, the **'Amount'** and **'Time'** columns have not been transformed with the PCA. Since some models, like linear classifiers (Logistic Regression) can be influenced by non-scaled data, we will use RobustScaler, which is more robust to outliers, to scale the two columns.\n",
    "\n",
    "**NOTE**: Tree based models are generally not affected by non-scaled data"
   ]
  },
  {
   "cell_type": "code",
   "execution_count": 549,
   "metadata": {
    "code_folding": [
     0
    ]
   },
   "outputs": [],
   "source": [
    "# Scale columns 'Amount' and 'Time'\n",
    "# Robust Scaler\n",
    "scaler = RobustScaler()\n",
    "\n",
    "# Fit Scaler\n",
    "df['amount_scaled'] = scaler.fit_transform(df['Amount'].values.reshape(-1,1))\n",
    "df['time_scaled'] = scaler.fit_transform(df['Time'].values.reshape(-1,1))\n",
    "\n",
    "# drop non-scaled columns\n",
    "df = df.drop([\"Amount\", \"Time\"], axis=1)"
   ]
  },
  {
   "cell_type": "code",
   "execution_count": 550,
   "metadata": {},
   "outputs": [
    {
     "data": {
      "text/html": [
       "<div>\n",
       "<style scoped>\n",
       "    .dataframe tbody tr th:only-of-type {\n",
       "        vertical-align: middle;\n",
       "    }\n",
       "\n",
       "    .dataframe tbody tr th {\n",
       "        vertical-align: top;\n",
       "    }\n",
       "\n",
       "    .dataframe thead th {\n",
       "        text-align: right;\n",
       "    }\n",
       "</style>\n",
       "<table border=\"1\" class=\"dataframe\">\n",
       "  <thead>\n",
       "    <tr style=\"text-align: right;\">\n",
       "      <th></th>\n",
       "      <th>V1</th>\n",
       "      <th>V2</th>\n",
       "      <th>V3</th>\n",
       "      <th>V4</th>\n",
       "      <th>V5</th>\n",
       "      <th>V6</th>\n",
       "      <th>V7</th>\n",
       "      <th>V8</th>\n",
       "      <th>V9</th>\n",
       "      <th>V10</th>\n",
       "      <th>...</th>\n",
       "      <th>V22</th>\n",
       "      <th>V23</th>\n",
       "      <th>V24</th>\n",
       "      <th>V25</th>\n",
       "      <th>V26</th>\n",
       "      <th>V27</th>\n",
       "      <th>V28</th>\n",
       "      <th>Class</th>\n",
       "      <th>amount_scaled</th>\n",
       "      <th>time_scaled</th>\n",
       "    </tr>\n",
       "  </thead>\n",
       "  <tbody>\n",
       "    <tr>\n",
       "      <th>0</th>\n",
       "      <td>-1.359807</td>\n",
       "      <td>-0.072781</td>\n",
       "      <td>2.536347</td>\n",
       "      <td>1.378155</td>\n",
       "      <td>-0.338321</td>\n",
       "      <td>0.462388</td>\n",
       "      <td>0.239599</td>\n",
       "      <td>0.098698</td>\n",
       "      <td>0.363787</td>\n",
       "      <td>0.090794</td>\n",
       "      <td>...</td>\n",
       "      <td>0.277838</td>\n",
       "      <td>-0.110474</td>\n",
       "      <td>0.066928</td>\n",
       "      <td>0.128539</td>\n",
       "      <td>-0.189115</td>\n",
       "      <td>0.133558</td>\n",
       "      <td>-0.021053</td>\n",
       "      <td>0</td>\n",
       "      <td>1.783274</td>\n",
       "      <td>-0.994983</td>\n",
       "    </tr>\n",
       "    <tr>\n",
       "      <th>1</th>\n",
       "      <td>1.191857</td>\n",
       "      <td>0.266151</td>\n",
       "      <td>0.166480</td>\n",
       "      <td>0.448154</td>\n",
       "      <td>0.060018</td>\n",
       "      <td>-0.082361</td>\n",
       "      <td>-0.078803</td>\n",
       "      <td>0.085102</td>\n",
       "      <td>-0.255425</td>\n",
       "      <td>-0.166974</td>\n",
       "      <td>...</td>\n",
       "      <td>-0.638672</td>\n",
       "      <td>0.101288</td>\n",
       "      <td>-0.339846</td>\n",
       "      <td>0.167170</td>\n",
       "      <td>0.125895</td>\n",
       "      <td>-0.008983</td>\n",
       "      <td>0.014724</td>\n",
       "      <td>0</td>\n",
       "      <td>-0.269825</td>\n",
       "      <td>-0.994983</td>\n",
       "    </tr>\n",
       "    <tr>\n",
       "      <th>2</th>\n",
       "      <td>-1.358354</td>\n",
       "      <td>-1.340163</td>\n",
       "      <td>1.773209</td>\n",
       "      <td>0.379780</td>\n",
       "      <td>-0.503198</td>\n",
       "      <td>1.800499</td>\n",
       "      <td>0.791461</td>\n",
       "      <td>0.247676</td>\n",
       "      <td>-1.514654</td>\n",
       "      <td>0.207643</td>\n",
       "      <td>...</td>\n",
       "      <td>0.771679</td>\n",
       "      <td>0.909412</td>\n",
       "      <td>-0.689281</td>\n",
       "      <td>-0.327642</td>\n",
       "      <td>-0.139097</td>\n",
       "      <td>-0.055353</td>\n",
       "      <td>-0.059752</td>\n",
       "      <td>0</td>\n",
       "      <td>4.983721</td>\n",
       "      <td>-0.994972</td>\n",
       "    </tr>\n",
       "    <tr>\n",
       "      <th>3</th>\n",
       "      <td>-0.966272</td>\n",
       "      <td>-0.185226</td>\n",
       "      <td>1.792993</td>\n",
       "      <td>-0.863291</td>\n",
       "      <td>-0.010309</td>\n",
       "      <td>1.247203</td>\n",
       "      <td>0.237609</td>\n",
       "      <td>0.377436</td>\n",
       "      <td>-1.387024</td>\n",
       "      <td>-0.054952</td>\n",
       "      <td>...</td>\n",
       "      <td>0.005274</td>\n",
       "      <td>-0.190321</td>\n",
       "      <td>-1.175575</td>\n",
       "      <td>0.647376</td>\n",
       "      <td>-0.221929</td>\n",
       "      <td>0.062723</td>\n",
       "      <td>0.061458</td>\n",
       "      <td>0</td>\n",
       "      <td>1.418291</td>\n",
       "      <td>-0.994972</td>\n",
       "    </tr>\n",
       "    <tr>\n",
       "      <th>4</th>\n",
       "      <td>-1.158233</td>\n",
       "      <td>0.877737</td>\n",
       "      <td>1.548718</td>\n",
       "      <td>0.403034</td>\n",
       "      <td>-0.407193</td>\n",
       "      <td>0.095921</td>\n",
       "      <td>0.592941</td>\n",
       "      <td>-0.270533</td>\n",
       "      <td>0.817739</td>\n",
       "      <td>0.753074</td>\n",
       "      <td>...</td>\n",
       "      <td>0.798278</td>\n",
       "      <td>-0.137458</td>\n",
       "      <td>0.141267</td>\n",
       "      <td>-0.206010</td>\n",
       "      <td>0.502292</td>\n",
       "      <td>0.219422</td>\n",
       "      <td>0.215153</td>\n",
       "      <td>0</td>\n",
       "      <td>0.670579</td>\n",
       "      <td>-0.994960</td>\n",
       "    </tr>\n",
       "  </tbody>\n",
       "</table>\n",
       "<p>5 rows × 31 columns</p>\n",
       "</div>"
      ],
      "text/plain": [
       "         V1        V2        V3        V4        V5        V6        V7  \\\n",
       "0 -1.359807 -0.072781  2.536347  1.378155 -0.338321  0.462388  0.239599   \n",
       "1  1.191857  0.266151  0.166480  0.448154  0.060018 -0.082361 -0.078803   \n",
       "2 -1.358354 -1.340163  1.773209  0.379780 -0.503198  1.800499  0.791461   \n",
       "3 -0.966272 -0.185226  1.792993 -0.863291 -0.010309  1.247203  0.237609   \n",
       "4 -1.158233  0.877737  1.548718  0.403034 -0.407193  0.095921  0.592941   \n",
       "\n",
       "         V8        V9       V10  ...       V22       V23       V24       V25  \\\n",
       "0  0.098698  0.363787  0.090794  ...  0.277838 -0.110474  0.066928  0.128539   \n",
       "1  0.085102 -0.255425 -0.166974  ... -0.638672  0.101288 -0.339846  0.167170   \n",
       "2  0.247676 -1.514654  0.207643  ...  0.771679  0.909412 -0.689281 -0.327642   \n",
       "3  0.377436 -1.387024 -0.054952  ...  0.005274 -0.190321 -1.175575  0.647376   \n",
       "4 -0.270533  0.817739  0.753074  ...  0.798278 -0.137458  0.141267 -0.206010   \n",
       "\n",
       "        V26       V27       V28  Class  amount_scaled  time_scaled  \n",
       "0 -0.189115  0.133558 -0.021053      0       1.783274    -0.994983  \n",
       "1  0.125895 -0.008983  0.014724      0      -0.269825    -0.994983  \n",
       "2 -0.139097 -0.055353 -0.059752      0       4.983721    -0.994972  \n",
       "3 -0.221929  0.062723  0.061458      0       1.418291    -0.994972  \n",
       "4  0.502292  0.219422  0.215153      0       0.670579    -0.994960  \n",
       "\n",
       "[5 rows x 31 columns]"
      ]
     },
     "execution_count": 550,
     "metadata": {},
     "output_type": "execute_result"
    }
   ],
   "source": [
    "df.head()"
   ]
  },
  {
   "cell_type": "markdown",
   "metadata": {},
   "source": [
    "#### Train-Test Split"
   ]
  },
  {
   "cell_type": "markdown",
   "metadata": {},
   "source": [
    "The dataset is split into train and test data using a test size of 0.25.\n",
    "When splitting the data, we need to maintain the initial fraud-to-non-fraud ratio between the splitted datsets."
   ]
  },
  {
   "cell_type": "code",
   "execution_count": 551,
   "metadata": {
    "code_folding": [
     0
    ]
   },
   "outputs": [],
   "source": [
    "# Split features and target\n",
    "X = df.drop('Class', axis=1).copy()\n",
    "y = df['Class'].copy()"
   ]
  },
  {
   "cell_type": "code",
   "execution_count": 552,
   "metadata": {
    "code_folding": [
     0
    ]
   },
   "outputs": [],
   "source": [
    "# Train-Test Split with stratify, in order to maintain the fraud ratio \n",
    "X_train, X_test, y_train, y_test = train_test_split(X, y, random_state=42, stratify=y) "
   ]
  },
  {
   "cell_type": "code",
   "execution_count": 553,
   "metadata": {
    "code_folding": [
     0
    ]
   },
   "outputs": [
    {
     "name": "stdout",
     "output_type": "stream",
     "text": [
      "Fraud Ratio Train Data:  0.0017274876524425926\n",
      "Fraud Ratio Test Data:  0.0017274795651807534\n"
     ]
    }
   ],
   "source": [
    "# Ensure Fraud Ratio is kept the same\n",
    "\n",
    "# Train Data\n",
    "print(\"Fraud Ratio Train Data: \", sum(y_train)/len(X_train))\n",
    "# Test Data\n",
    "print(\"Fraud Ratio Test Data: \", sum(y_test)/len(X_test))"
   ]
  },
  {
   "cell_type": "markdown",
   "metadata": {},
   "source": [
    "### Models"
   ]
  },
  {
   "cell_type": "markdown",
   "metadata": {},
   "source": [
    "First we will run three different models on the complete dataset to identify a suitable / accurate model for the given dataset. The models which will be tested are: \n",
    "* **XGBoost** (Extreme Gradient Boosting)\n",
    "* **Random Forest**\n",
    "* **Logistic Regression**\n",
    "\n",
    "As mentioned before, the models will be mainly evaluated using the ROC-AUC score. In order to take into consideration the influence of random effects (when splitting the dataset into train and test data), a 4-fold Cross-Validation (when the test_size is equal to 0.25) is used to ensure that the prediction is not the cause of a specific (random) train-test split.\n",
    "\n",
    "**NOTE:** Since we will obtain satisfying results by running the simple models and are mainly aiming to compare the different sub-datasets horizontally, rather then produce a highly accurate aggregated model, we will not proceed to tune the model hyperparameters using Grid Search etc."
   ]
  },
  {
   "cell_type": "markdown",
   "metadata": {},
   "source": [
    "#### Custom evaluation functions"
   ]
  },
  {
   "cell_type": "markdown",
   "metadata": {},
   "source": [
    "First we build two functions which we will use in the model evaluation, returning **True Positives, False Negatives, True Negatives** and the **Sensitivity**. Since the dataset is highly imbalanced and we mostly care about the fraud predictions, we will not make use of the specificity metric, which is evaluating the predictions of the negative class.\n",
    "\n",
    "Secondly, we define a function carrying out the Cross-Validation."
   ]
  },
  {
   "cell_type": "code",
   "execution_count": 554,
   "metadata": {
    "code_folding": [
     3,
     22
    ]
   },
   "outputs": [],
   "source": [
    "# Define custom functions for evaluation purposes\n",
    "\n",
    "# Function returning the evaluation criteria (TP, FP, TN, FN)\n",
    "def perf_measure(y_actual, y_pred):\n",
    "    TP = 0\n",
    "    FP = 0\n",
    "    TN = 0\n",
    "    FN = 0\n",
    "\n",
    "    for i in range(len(y_pred)): \n",
    "        if y_actual[i]==y_pred[i]==1:\n",
    "           TP += 1\n",
    "        if y_pred[i]==1 and y_actual[i]!=y_pred[i]:\n",
    "           FP += 1\n",
    "        if y_actual[i]==y_pred[i]==0:\n",
    "           TN += 1\n",
    "        if y_pred[i]==0 and y_actual[i]!=y_pred[i]:\n",
    "           FN += 1\n",
    "\n",
    "    return TP, FP, TN, FN\n",
    "\n",
    "# Function returning the sensitivity\n",
    "def sensitivity_score(TP, FN):\n",
    "    sensitivity = TP/(TP+FN)\n",
    "    return sensitivity"
   ]
  },
  {
   "cell_type": "code",
   "execution_count": 557,
   "metadata": {
    "code_folding": [
     1
    ]
   },
   "outputs": [],
   "source": [
    "# Cross-Validation\n",
    "def CV(X, y, clf, cv):\n",
    "    aucs = []\n",
    "    for train,test in cv.split(X, y):\n",
    "        clf.fit(X.iloc[train], y.iloc[train])\n",
    "        prediction = clf.predict(X.iloc[test])\n",
    "        roc_auc = roc_auc_score(y[test], prediction)\n",
    "        aucs.append(roc_auc)\n",
    "    return aucs"
   ]
  },
  {
   "cell_type": "markdown",
   "metadata": {},
   "source": [
    "### XGBoost"
   ]
  },
  {
   "cell_type": "markdown",
   "metadata": {},
   "source": [
    "We run a regular XGBoost classifier with early_stopping_rounds equal to 10, meaning that the XGBoost will stop building trees after the AUC does not improve for 10 consecutive rounds."
   ]
  },
  {
   "cell_type": "code",
   "execution_count": 558,
   "metadata": {},
   "outputs": [],
   "source": [
    "# Initialize XGB Classifier\n",
    "clf_xgb = xgb.XGBClassifier(objective='binary:logistic', missing=None, seed=42)"
   ]
  },
  {
   "cell_type": "code",
   "execution_count": 559,
   "metadata": {
    "code_folding": [
     0
    ]
   },
   "outputs": [
    {
     "data": {
      "text/plain": [
       "XGBClassifier(base_score=0.5, booster='gbtree', colsample_bylevel=1,\n",
       "              colsample_bynode=1, colsample_bytree=1, gamma=0,\n",
       "              learning_rate=0.1, max_delta_step=0, max_depth=3,\n",
       "              min_child_weight=1, missing=None, n_estimators=100, n_jobs=1,\n",
       "              nthread=None, objective='binary:logistic', random_state=0,\n",
       "              reg_alpha=0, reg_lambda=1, scale_pos_weight=1, seed=42,\n",
       "              silent=None, subsample=1, verbosity=1)"
      ]
     },
     "execution_count": 559,
     "metadata": {},
     "output_type": "execute_result"
    }
   ],
   "source": [
    "# Fit XGBoost\n",
    "clf_xgb.fit(\n",
    "    X_train,\n",
    "    y_train,\n",
    "    verbose=False,\n",
    "    early_stopping_rounds=10,\n",
    "    eval_metric='auc',\n",
    "    eval_set=[(X_test, y_test)]\n",
    ")"
   ]
  },
  {
   "cell_type": "code",
   "execution_count": 560,
   "metadata": {
    "code_folding": [
     0
    ]
   },
   "outputs": [
    {
     "name": "stdout",
     "output_type": "stream",
     "text": [
      "Confusion Matrix\n",
      "–––––––––––––––––––––––––\n",
      "Dataset: Complete Dataset\n",
      "Model: XGBoost\n"
     ]
    },
    {
     "data": {
      "text/plain": [
       "<sklearn.metrics._plot.confusion_matrix.ConfusionMatrixDisplay at 0x7fc52fddf550>"
      ]
     },
     "execution_count": 560,
     "metadata": {},
     "output_type": "execute_result"
    },
    {
     "data": {
      "image/png": "[encoded data removed]",
      "text/plain": [
       "<Figure size 432x288 with 2 Axes>"
      ]
     },
     "metadata": {
      "needs_background": "light"
     },
     "output_type": "display_data"
    }
   ],
   "source": [
    "# Plot normalized confusion matrix\n",
    "print(\"Confusion Matrix\")\n",
    "print(\"–––––––––––––––––––––––––\")\n",
    "print(\"Dataset: Complete Dataset\")\n",
    "print(\"Model: XGBoost\")\n",
    "plot_confusion_matrix(\n",
    "    clf_xgb,\n",
    "    X_test,\n",
    "    y_test,\n",
    "    normalize='true',\n",
    "    cmap=plt.cm.Blues,\n",
    "    values_format='.2f',\n",
    "    display_labels=[\"No Fraud\", \"Fraud\"]\n",
    ")"
   ]
  },
  {
   "cell_type": "code",
   "execution_count": 561,
   "metadata": {
    "code_folding": [
     0
    ],
    "scrolled": true
   },
   "outputs": [
    {
     "name": "stdout",
     "output_type": "stream",
     "text": [
      "True Positives: 91 | False Negatives: 32\n",
      "Sensitivity (TP/(Fraud Transactions)): 0.74\n",
      "\n",
      "ROC-AUC Score: 0.87\n"
     ]
    }
   ],
   "source": [
    "# Evaluation Metrics\n",
    "y_pred_xgb = clf_xgb.predict(X_test)\n",
    "\n",
    "# True Positives and False Negatives\n",
    "TP, FP, TN, FN = perf_measure(np.array(y_test), y_pred_xgb)\n",
    "print(f\"True Positives: {TP} | False Negatives: {FN}\")\n",
    "\n",
    "sensitivity = sensitivity_score(TP, FN)\n",
    "print(\"Sensitivity (TP/(Fraud Transactions)): %.2f\"%(sensitivity))\n",
    "\n",
    "# ROC-AUC Score\n",
    "roc_auc = roc_auc_score(y_test, y_pred_xgb)\n",
    "print('\\nROC-AUC Score: %.2f' %(roc_auc))"
   ]
  },
  {
   "cell_type": "markdown",
   "metadata": {},
   "source": [
    "When plotting the features importance by **'gain'**, i.e. each features relative contribution to the gain for each tree in the model, we see indeed that the transaction amount did not influence the classification significantly."
   ]
  },
  {
   "cell_type": "code",
   "execution_count": 562,
   "metadata": {
    "code_folding": [
     0
    ]
   },
   "outputs": [
    {
     "data": {
      "image/png": "[encoded data removed]",
      "text/plain": [
       "<Figure size 1440x504 with 1 Axes>"
      ]
     },
     "metadata": {
      "needs_background": "light"
     },
     "output_type": "display_data"
    }
   ],
   "source": [
    "# Plot importance of features in XGB\n",
    "fig, ax = plt.subplots(ncols=1, figsize=(20,7))\n",
    "xgb.plot_importance(\n",
    "    clf_xgb, \n",
    "    height=0.8, \n",
    "    title=\"Features importance\", \n",
    "    importance_type='gain', \n",
    "    ax=ax, \n",
    "    ylabel=None, \n",
    "    grid=False\n",
    ") \n",
    "plt.show()"
   ]
  },
  {
   "cell_type": "code",
   "execution_count": 563,
   "metadata": {
    "code_folding": [
     0
    ]
   },
   "outputs": [
    {
     "name": "stdout",
     "output_type": "stream",
     "text": [
      "ROC-AUC-Scores: [0.8900821106299106, 0.8657622109923037, 0.881966098182064, 0.8901594881336135]\n",
      "Mean ROC-AUC-Score: 0.88\n"
     ]
    }
   ],
   "source": [
    "# 4-fold Cross-Validation\n",
    "cv = StratifiedKFold(n_splits=4,shuffle=True)\n",
    "aucs = CV(X, y, clf_xgb, cv)\n",
    "mean_auc = sum(aucs)/len(aucs)\n",
    "print(\"ROC-AUC-Scores:\", aucs)\n",
    "print(\"Mean ROC-AUC-Score: %.2f\"% (mean_auc))"
   ]
  },
  {
   "cell_type": "markdown",
   "metadata": {},
   "source": [
    "### Random Forest"
   ]
  },
  {
   "cell_type": "markdown",
   "metadata": {},
   "source": [
    "Next we will run a regular Random Forest classifier, using the default gini coefficient to measure the impurity of the nodes."
   ]
  },
  {
   "cell_type": "code",
   "execution_count": 564,
   "metadata": {
    "code_folding": [
     0
    ]
   },
   "outputs": [],
   "source": [
    "# Initialize Random Forest Classifier\n",
    "clf_rf = RandomForestClassifier(\n",
    "    random_state=42,\n",
    "    criterion='gini',\n",
    "    n_estimators=100,\n",
    "    n_jobs=8,\n",
    "    verbose=False)"
   ]
  },
  {
   "cell_type": "code",
   "execution_count": 565,
   "metadata": {
    "code_folding": []
   },
   "outputs": [
    {
     "data": {
      "text/plain": [
       "RandomForestClassifier(bootstrap=True, ccp_alpha=0.0, class_weight=None,\n",
       "                       criterion='gini', max_depth=None, max_features='auto',\n",
       "                       max_leaf_nodes=None, max_samples=None,\n",
       "                       min_impurity_decrease=0.0, min_impurity_split=None,\n",
       "                       min_samples_leaf=1, min_samples_split=2,\n",
       "                       min_weight_fraction_leaf=0.0, n_estimators=100, n_jobs=8,\n",
       "                       oob_score=False, random_state=42, verbose=False,\n",
       "                       warm_start=False)"
      ]
     },
     "execution_count": 565,
     "metadata": {},
     "output_type": "execute_result"
    }
   ],
   "source": [
    "# Fit Model\n",
    "clf_rf.fit(X_train, y_train)"
   ]
  },
  {
   "cell_type": "code",
   "execution_count": 339,
   "metadata": {
    "code_folding": [
     0
    ]
   },
   "outputs": [
    {
     "name": "stdout",
     "output_type": "stream",
     "text": [
      "Confusion Matrix\n",
      "–––––––––––––––––––––––––\n",
      "Dataset: Complete Dataset\n",
      "Model: Random Forest\n"
     ]
    },
    {
     "data": {
      "text/plain": [
       "<sklearn.metrics._plot.confusion_matrix.ConfusionMatrixDisplay at 0x7fc5529b7a50>"
      ]
     },
     "execution_count": 339,
     "metadata": {},
     "output_type": "execute_result"
    },
    {
     "data": {
      "image/png": "[encoded data removed]",
      "text/plain": [
       "<Figure size 432x288 with 2 Axes>"
      ]
     },
     "metadata": {
      "needs_background": "light"
     },
     "output_type": "display_data"
    }
   ],
   "source": [
    "# Plot normalized confusion matrix\n",
    "print(\"Confusion Matrix\")\n",
    "print(\"–––––––––––––––––––––––––\")\n",
    "print(\"Dataset: Complete Dataset\")\n",
    "print(\"Model: Random Forest\")\n",
    "plot_confusion_matrix(\n",
    "    clf_rf,\n",
    "    X_test,\n",
    "    y_test,\n",
    "    normalize='true',\n",
    "    cmap=plt.cm.Blues,\n",
    "    values_format = '.2f',\n",
    "    display_labels=[\"No Fraud\", \"Fraud\"]\n",
    ")"
   ]
  },
  {
   "cell_type": "code",
   "execution_count": 331,
   "metadata": {
    "code_folding": [
     0
    ]
   },
   "outputs": [
    {
     "name": "stdout",
     "output_type": "stream",
     "text": [
      "True Positives: 98 | False Negatives: 25\n",
      "Sensitivity (TP/(Fraud Transactions)): 0.80\n",
      "\n",
      "ROC-AUC Score: 0.90\n"
     ]
    }
   ],
   "source": [
    "# Evaluation Metrics\n",
    "y_pred_rf = clf_rf.predict(X_test)\n",
    "\n",
    "# True Positives and False Negatives\n",
    "TP, FP, TN, FN = perf_measure(np.array(y_test), y_pred_rf)\n",
    "print(f\"True Positives: {TP} | False Negatives: {FN}\")\n",
    "\n",
    "sensitivity = sensitivity_score(TP, FN)\n",
    "print(\"Sensitivity (TP/(Fraud Transactions)): %.2f\"%(sensitivity))\n",
    "\n",
    "# ROC-AUC Score\n",
    "roc_auc = roc_auc_score(y_test, y_pred_rf)\n",
    "print('\\nROC-AUC Score: %.2f' %(roc_auc))"
   ]
  },
  {
   "cell_type": "code",
   "execution_count": 332,
   "metadata": {
    "code_folding": [
     0
    ]
   },
   "outputs": [
    {
     "name": "stdout",
     "output_type": "stream",
     "text": [
      "ROC-AUC-Scores: [0.8942526676775652, 0.902375714551895, 0.8942808053834981, 0.8739626362610456]\n",
      "Mean ROC-AUC-Score: 0.89\n"
     ]
    }
   ],
   "source": [
    "# 4-fold Cross-Validation\n",
    "cv = StratifiedKFold(n_splits=4,shuffle=True)\n",
    "aucs = CV(X, y, clf_rf, cv)\n",
    "mean_auc = sum(aucs)/len(aucs)\n",
    "print(\"ROC-AUC-Scores:\", aucs)\n",
    "print(\"Mean ROC-AUC-Score: %.2f\"% (mean_auc))"
   ]
  },
  {
   "cell_type": "markdown",
   "metadata": {},
   "source": [
    "#### Logistic Regression"
   ]
  },
  {
   "cell_type": "markdown",
   "metadata": {},
   "source": [
    "Next we run a regular Logistic regression model, without any regularization / penalty parameters."
   ]
  },
  {
   "cell_type": "code",
   "execution_count": 333,
   "metadata": {},
   "outputs": [],
   "source": [
    "clf_log = LogisticRegression(random_state=0, max_iter=200)"
   ]
  },
  {
   "cell_type": "code",
   "execution_count": 334,
   "metadata": {},
   "outputs": [
    {
     "data": {
      "text/plain": [
       "LogisticRegression(C=1.0, class_weight=None, dual=False, fit_intercept=True,\n",
       "                   intercept_scaling=1, l1_ratio=None, max_iter=200,\n",
       "                   multi_class='auto', n_jobs=None, penalty='l2',\n",
       "                   random_state=0, solver='lbfgs', tol=0.0001, verbose=0,\n",
       "                   warm_start=False)"
      ]
     },
     "execution_count": 334,
     "metadata": {},
     "output_type": "execute_result"
    }
   ],
   "source": [
    "clf_log.fit(X, y)"
   ]
  },
  {
   "cell_type": "code",
   "execution_count": 335,
   "metadata": {
    "code_folding": [
     0
    ]
   },
   "outputs": [
    {
     "name": "stdout",
     "output_type": "stream",
     "text": [
      "Confusion Matrix\n",
      "–––––––––––––––––––––––––\n",
      "Dataset: Complete Dataset\n",
      "Model: Logistic Regression\n"
     ]
    },
    {
     "data": {
      "text/plain": [
       "<sklearn.metrics._plot.confusion_matrix.ConfusionMatrixDisplay at 0x7fc551805790>"
      ]
     },
     "execution_count": 335,
     "metadata": {},
     "output_type": "execute_result"
    },
    {
     "data": {
      "image/png": "[encoded data removed]",
      "text/plain": [
       "<Figure size 432x288 with 2 Axes>"
      ]
     },
     "metadata": {
      "needs_background": "light"
     },
     "output_type": "display_data"
    }
   ],
   "source": [
    "# Plot normalized confusion matrix\n",
    "print(\"Confusion Matrix\")\n",
    "print(\"–––––––––––––––––––––––––\")\n",
    "print(\"Dataset: Complete Dataset\")\n",
    "print(\"Model: Logistic Regression\")\n",
    "plot_confusion_matrix(\n",
    "    clf_log,\n",
    "    X_test,\n",
    "    y_test,\n",
    "    normalize='true',\n",
    "    cmap=plt.cm.Blues,\n",
    "    values_format = '.2f',\n",
    "    display_labels=[\"No Fraud\", \"Fraud\"]\n",
    ")"
   ]
  },
  {
   "cell_type": "code",
   "execution_count": 336,
   "metadata": {
    "code_folding": [
     0
    ]
   },
   "outputs": [
    {
     "name": "stdout",
     "output_type": "stream",
     "text": [
      "True Positives: 76 | False Negatives: 47\n",
      "Sensitivity (TP/(Fraud Transactions)): 0.62\n",
      "\n",
      "ROC-AUC Score: 0.81\n"
     ]
    }
   ],
   "source": [
    "# Evaluation Metrics\n",
    "y_pred_log = clf_log.predict(X_test)\n",
    "\n",
    "# True Positives and False Negatives\n",
    "TP, FP, TN, FN = perf_measure(np.array(y_test), y_pred_log)\n",
    "print(f\"True Positives: {TP} | False Negatives: {FN}\")\n",
    "\n",
    "sensitivity = sensitivity_score(TP, FN)\n",
    "print(\"Sensitivity (TP/(Fraud Transactions)): %.2f\"%(sensitivity))\n",
    "\n",
    "# ROC-AUC Score\n",
    "roc_auc = roc_auc_score(y_test, y_pred_log)\n",
    "print('\\nROC-AUC Score: %.2f' %(roc_auc))"
   ]
  },
  {
   "cell_type": "code",
   "execution_count": 337,
   "metadata": {
    "code_folding": [
     0
    ]
   },
   "outputs": [
    {
     "name": "stdout",
     "output_type": "stream",
     "text": [
      "ROC-AUC-Scores: [0.7885475419140296, 0.8373209952924245, 0.78447546683714, 0.837306925152878]\n",
      "Mean ROC-AUC-Score: 0.81\n"
     ]
    }
   ],
   "source": [
    "# 4-fold Cross-Validation\n",
    "cv = StratifiedKFold(n_splits=4,shuffle=True)\n",
    "aucs = CV(X, y, clf_log, cv)\n",
    "mean_auc = sum(aucs)/len(aucs)\n",
    "print(\"ROC-AUC-Scores:\", aucs)\n",
    "print(\"Mean ROC-AUC-Score: %.2f\"% (mean_auc))"
   ]
  },
  {
   "cell_type": "markdown",
   "metadata": {},
   "source": [
    "### Model Comparison: ROC-AUC Graph"
   ]
  },
  {
   "cell_type": "markdown",
   "metadata": {},
   "source": [
    "Next we will compare the performance of the applied models on the credit card fraud dataset by modeling the ROC-AUC curve. The ROC-AUC graph indicates how well the models separated the two classes in their predictions. The y-axis measures the True-Positive-Rate (Sensitivity) and the x-axis measures the False-Positive-Rate for all prediction threshholds.\n",
    "\n",
    "We can see that the **Random Forest** had the largest Area Under Curve out of the three models. Since the Random Forest did the best job classifying the samples, we will proceed using that model for comparing the impact of dividing the dataset into subsamples on the prediction accuracy."
   ]
  },
  {
   "cell_type": "code",
   "execution_count": 148,
   "metadata": {
    "code_folding": [
     0
    ]
   },
   "outputs": [
    {
     "data": {
      "text/plain": [
       "<matplotlib.legend.Legend at 0x7fc576839e90>"
      ]
     },
     "execution_count": 148,
     "metadata": {},
     "output_type": "execute_result"
    },
    {
     "data": {
      "image/png": "[encoded data removed]",
      "text/plain": [
       "<Figure size 432x288 with 1 Axes>"
      ]
     },
     "metadata": {
      "needs_background": "light"
     },
     "output_type": "display_data"
    }
   ],
   "source": [
    "# Plot AUC of the three models\n",
    "plt.figure(0).clf()\n",
    "\n",
    "# XGBoost\n",
    "fpr, tpr, thresh = roc_curve(y_test, y_pred_xgb)\n",
    "auc = roc_auc_score(y_test, y_pred_xgb)\n",
    "plt.plot(fpr,tpr,label=\"XGBoost, AUC=\"+str(auc))\n",
    "\n",
    "# Random Forest\n",
    "fpr, tpr, thresh = roc_curve(y_test, y_pred_rf)\n",
    "auc = roc_auc_score(y_test, y_pred_rf)\n",
    "plt.plot(fpr,tpr,label=\"Random Forest, AUC=\"+str(auc))\n",
    "\n",
    "# Logistic Regression\n",
    "fpr, tpr, thresh = roc_curve(y_test, y_pred_log)\n",
    "auc = roc_auc_score(y_test, y_pred_log)\n",
    "plt.plot(fpr,tpr,label=\"Logistic Reg., AUC=\"+str(auc))\n",
    "\n",
    "plt.legend(loc=0)"
   ]
  },
  {
   "cell_type": "markdown",
   "metadata": {},
   "source": [
    "# Split Dataset"
   ]
  },
  {
   "cell_type": "markdown",
   "metadata": {},
   "source": [
    "In the following section we will split and modify the dataset in various ways and use the Random Forest model to evaluate its impact on model performance."
   ]
  },
  {
   "cell_type": "markdown",
   "metadata": {},
   "source": [
    "## 50:50 Split"
   ]
  },
  {
   "cell_type": "markdown",
   "metadata": {},
   "source": [
    "First, we will split the dataset into two equal subdatasets and run the Random Forest model on the data."
   ]
  },
  {
   "cell_type": "code",
   "execution_count": 156,
   "metadata": {
    "code_folding": [
     0
    ]
   },
   "outputs": [],
   "source": [
    "# Split dataset in half\n",
    "nfraud_half1 = non_fraud_df[:int(len(non_fraud_df)/2)]\n",
    "nfraud_half2 = non_fraud_df[int(len(non_fraud_df)/2):]\n",
    "\n",
    "fraud_half1 = fraud_df[:int(len(fraud_df)/2)]\n",
    "fraud_half2 = fraud_df[int(len(fraud_df)/2):]\n",
    "\n",
    "df_half1 = nfraud_half1.append(fraud_half1)\n",
    "df_half1 = df_half1.sample(frac=1).reset_index()\n",
    "\n",
    "df_half2 = nfraud_half2.append(fraud_half2)\n",
    "df_half2 = df_half2.sample(frac=1).reset_index()"
   ]
  },
  {
   "cell_type": "code",
   "execution_count": 157,
   "metadata": {
    "code_folding": [
     0
    ]
   },
   "outputs": [
    {
     "name": "stdout",
     "output_type": "stream",
     "text": [
      "Number of observations df_half1: n = 142403\n",
      "Number of observations df_half2: n = 142404\n"
     ]
    }
   ],
   "source": [
    "# Check number of observations\n",
    "print(\"Number of observations df_half1: n =\", len(df_half1))\n",
    "print(\"Number of observations df_half2: n =\", len(df_half2))"
   ]
  },
  {
   "cell_type": "markdown",
   "metadata": {},
   "source": [
    "### Train-Test Split"
   ]
  },
  {
   "cell_type": "markdown",
   "metadata": {},
   "source": [
    "Now we create a Train-Test Split for the two datasets with a standard test size equal to 0.25% of the number of observations."
   ]
  },
  {
   "cell_type": "markdown",
   "metadata": {},
   "source": [
    "#### df_half1"
   ]
  },
  {
   "cell_type": "code",
   "execution_count": 164,
   "metadata": {
    "code_folding": [
     0
    ],
    "scrolled": true
   },
   "outputs": [],
   "source": [
    "# Split dataset into predictors and target: X_half1, y_half1\n",
    "X_half1 = df_half1.drop('Class', axis=1).copy()\n",
    "y_half1 = df_half1['Class'].copy()"
   ]
  },
  {
   "cell_type": "code",
   "execution_count": 169,
   "metadata": {
    "code_folding": [
     0
    ]
   },
   "outputs": [
    {
     "name": "stdout",
     "output_type": "stream",
     "text": [
      "Number of train set observations: n = 106802\n",
      "Number of test set observations: n = 35601\n",
      "Fraud Ratio: 0.001722814179509747\n"
     ]
    }
   ],
   "source": [
    "# Create Train-Test-Split: test_size=0.25\n",
    "X_half1_train, X_half1_test, y_half1_train, y_half1_test = train_test_split(X_half1, y_half1, random_state=0, stratify=y_half1) \n",
    "\n",
    "#Check fraud ratio\n",
    "print(\"Number of train set observations: n =\", len(X_half1_train))\n",
    "print(\"Number of test set observations: n =\", len(X_half1_test))\n",
    "print(\"Fraud Ratio:\", sum(y_half1_train)/len(X_half1_train))"
   ]
  },
  {
   "cell_type": "markdown",
   "metadata": {},
   "source": [
    "#### df_half2"
   ]
  },
  {
   "cell_type": "code",
   "execution_count": 170,
   "metadata": {
    "code_folding": [
     0
    ]
   },
   "outputs": [],
   "source": [
    "# Split dataset into predictors and target: X_half2, y_half2\n",
    "X_half2 = df_half2.drop('Class', axis=1).copy()\n",
    "y_half2 = df_half2['Class'].copy()"
   ]
  },
  {
   "cell_type": "code",
   "execution_count": 183,
   "metadata": {
    "code_folding": [
     0
    ]
   },
   "outputs": [
    {
     "name": "stdout",
     "output_type": "stream",
     "text": [
      "Number of train set observations: n = 106803\n",
      "Number of test set observations: n = 35601\n",
      "Fraud Ratio: 0.0017227980487439492\n"
     ]
    }
   ],
   "source": [
    "# Create Train-Test-Split: test_size=0.25\n",
    "X_half2_train, X_half2_test, y_half2_train, y_half2_test = train_test_split(X_half2, y_half2, random_state=10, stratify=y_half2) \n",
    "\n",
    "#Check fraud ratio\n",
    "print(\"Number of train set observations: n =\", len(X_half2_train))\n",
    "print(\"Number of test set observations: n =\", len(X_half2_test))\n",
    "print(\"Fraud Ratio:\", sum(y_half2_train)/len(X_half2_train))"
   ]
  },
  {
   "cell_type": "markdown",
   "metadata": {},
   "source": [
    "### Run Random Forest Model Run"
   ]
  },
  {
   "cell_type": "markdown",
   "metadata": {},
   "source": [
    "We will fit the same Random Forest classifier to the split dataset that was applied to the complete dataset, so we do not need to initialize a new classifier object."
   ]
  },
  {
   "cell_type": "markdown",
   "metadata": {},
   "source": [
    "#### df_half1"
   ]
  },
  {
   "cell_type": "code",
   "execution_count": 344,
   "metadata": {},
   "outputs": [
    {
     "data": {
      "text/plain": [
       "RandomForestClassifier(bootstrap=True, ccp_alpha=0.0, class_weight=None,\n",
       "                       criterion='gini', max_depth=None, max_features='auto',\n",
       "                       max_leaf_nodes=None, max_samples=None,\n",
       "                       min_impurity_decrease=0.0, min_impurity_split=None,\n",
       "                       min_samples_leaf=1, min_samples_split=2,\n",
       "                       min_weight_fraction_leaf=0.0, n_estimators=100, n_jobs=8,\n",
       "                       oob_score=False, random_state=42, verbose=False,\n",
       "                       warm_start=False)"
      ]
     },
     "execution_count": 344,
     "metadata": {},
     "output_type": "execute_result"
    }
   ],
   "source": [
    "# Fit Random Forest Model\n",
    "clf_rf.fit(X_half1_train, y_half1_train)"
   ]
  },
  {
   "cell_type": "code",
   "execution_count": 345,
   "metadata": {
    "code_folding": [
     0
    ]
   },
   "outputs": [
    {
     "name": "stdout",
     "output_type": "stream",
     "text": [
      "Confusion Matrix\n",
      "–––––––––––––––––––––––––\n",
      "Dataset: 1st half\n",
      "Model: Random Forest\n"
     ]
    },
    {
     "data": {
      "text/plain": [
       "<sklearn.metrics._plot.confusion_matrix.ConfusionMatrixDisplay at 0x7fc54170b210>"
      ]
     },
     "execution_count": 345,
     "metadata": {},
     "output_type": "execute_result"
    },
    {
     "data": {
      "image/png": "[encoded data removed]",
      "text/plain": [
       "<Figure size 432x288 with 2 Axes>"
      ]
     },
     "metadata": {
      "needs_background": "light"
     },
     "output_type": "display_data"
    }
   ],
   "source": [
    "# Plot normalized confusion matrix\n",
    "print(\"Confusion Matrix\")\n",
    "print(\"–––––––––––––––––––––––––\")\n",
    "print(\"Dataset: 1st half\")\n",
    "print(\"Model: Random Forest\")\n",
    "plot_confusion_matrix(\n",
    "    clf_rf,\n",
    "    X_half1_test,\n",
    "    y_half1_test,\n",
    "    normalize='true',\n",
    "    cmap=plt.cm.Blues,\n",
    "    values_format = '.2f',\n",
    "    display_labels=[\"No Fraud\", \"Fraud\"]\n",
    ")"
   ]
  },
  {
   "cell_type": "code",
   "execution_count": 346,
   "metadata": {
    "code_folding": [
     0
    ]
   },
   "outputs": [
    {
     "name": "stdout",
     "output_type": "stream",
     "text": [
      "True Positives: 48 | False Negatives: 14\n",
      "Sensitivity (TP/(Fraud Transactions)): 0.77\n",
      "\n",
      "ROC-AUC Score: 0.89\n"
     ]
    }
   ],
   "source": [
    "# Evaluation Metrics\n",
    "y_half1_pred_rf = clf_rf.predict(X_half1_test)\n",
    "\n",
    "# True Positives and False Negatives\n",
    "TP, FP, TN, FN = perf_measure(np.array(y_half1_test), y_half1_pred_rf)\n",
    "print(f\"True Positives: {TP} | False Negatives: {FN}\")\n",
    "\n",
    "sensitivity = sensitivity_score(TP, FN)\n",
    "print(\"Sensitivity (TP/(Fraud Transactions)): %.2f\"%(sensitivity))\n",
    "\n",
    "# ROC-AUC Score\n",
    "roc_auc = roc_auc_score(y_half1_test, y_half1_pred_rf)\n",
    "print('\\nROC-AUC Score: %.2f' %(roc_auc))"
   ]
  },
  {
   "cell_type": "code",
   "execution_count": 348,
   "metadata": {
    "code_folding": [
     0
    ]
   },
   "outputs": [
    {
     "name": "stdout",
     "output_type": "stream",
     "text": [
      "ROC-AUC-Scores: [0.8770351116728323, 0.9192704244042665, 0.9031976683498092, 0.9097938584210651]\n",
      "Mean ROC-AUC-Score: 0.90\n"
     ]
    }
   ],
   "source": [
    "# 4-fold Cross-Validation\n",
    "cv = StratifiedKFold(n_splits=4,shuffle=True)\n",
    "aucs = CV(X_half1, y_half1, clf_rf, cv)\n",
    "mean_auc = sum(aucs)/len(aucs)\n",
    "print(\"ROC-AUC-Scores:\", aucs)\n",
    "print(\"Mean ROC-AUC-Score: %.2f\"% (mean_auc))"
   ]
  },
  {
   "cell_type": "markdown",
   "metadata": {},
   "source": [
    "##### df_half2"
   ]
  },
  {
   "cell_type": "markdown",
   "metadata": {},
   "source": [
    "**NOTE:** We also run the model on the second half of the dataset to make sure the way of dividing it did not impact the prediction."
   ]
  },
  {
   "cell_type": "code",
   "execution_count": 349,
   "metadata": {
    "code_folding": [
     0
    ]
   },
   "outputs": [
    {
     "data": {
      "text/plain": [
       "RandomForestClassifier(bootstrap=True, ccp_alpha=0.0, class_weight=None,\n",
       "                       criterion='gini', max_depth=None, max_features='auto',\n",
       "                       max_leaf_nodes=None, max_samples=None,\n",
       "                       min_impurity_decrease=0.0, min_impurity_split=None,\n",
       "                       min_samples_leaf=1, min_samples_split=2,\n",
       "                       min_weight_fraction_leaf=0.0, n_estimators=100, n_jobs=8,\n",
       "                       oob_score=False, random_state=42, verbose=False,\n",
       "                       warm_start=False)"
      ]
     },
     "execution_count": 349,
     "metadata": {},
     "output_type": "execute_result"
    }
   ],
   "source": [
    "# Fit Random Forest Model\n",
    "clf_rf.fit(X_half2_train, y_half2_train)"
   ]
  },
  {
   "cell_type": "code",
   "execution_count": 350,
   "metadata": {
    "code_folding": [
     0
    ]
   },
   "outputs": [
    {
     "name": "stdout",
     "output_type": "stream",
     "text": [
      "Confusion Matrix\n",
      "–––––––––––––––––––––––––\n",
      "Dataset: 2nd half\n",
      "Model: Random Forest\n"
     ]
    },
    {
     "data": {
      "text/plain": [
       "<sklearn.metrics._plot.confusion_matrix.ConfusionMatrixDisplay at 0x7fc541479d90>"
      ]
     },
     "execution_count": 350,
     "metadata": {},
     "output_type": "execute_result"
    },
    {
     "data": {
      "image/png": "[encoded data removed]",
      "text/plain": [
       "<Figure size 432x288 with 2 Axes>"
      ]
     },
     "metadata": {
      "needs_background": "light"
     },
     "output_type": "display_data"
    }
   ],
   "source": [
    "# Plot normalized confusion matrix\n",
    "print(\"Confusion Matrix\")\n",
    "print(\"–––––––––––––––––––––––––\")\n",
    "print(\"Dataset: 2nd half\")\n",
    "print(\"Model: Random Forest\")\n",
    "plot_confusion_matrix(\n",
    "    clf_rf,\n",
    "    X_half2_test,\n",
    "    y_half2_test,\n",
    "    normalize='true',\n",
    "    cmap=plt.cm.Blues,\n",
    "    values_format = '.2f',\n",
    "    display_labels=[\"No Fraud\", \"Fraud\"]\n",
    ")"
   ]
  },
  {
   "cell_type": "code",
   "execution_count": 351,
   "metadata": {
    "code_folding": [
     0
    ]
   },
   "outputs": [
    {
     "name": "stdout",
     "output_type": "stream",
     "text": [
      "True Positives: 49 | False Negatives: 13\n",
      "Sensitivity (TP/(Fraud Transactions)): 0.79\n",
      "\n",
      "ROC-AUC Score: 0.90\n"
     ]
    }
   ],
   "source": [
    "# Evaluation Metrics\n",
    "y_half2_pred_rf = clf_rf.predict(X_half2_test)\n",
    "\n",
    "# True Positives and False Negatives\n",
    "TP, FP, TN, FN = perf_measure(np.array(y_half2_test), y_half2_pred_rf)\n",
    "print(f\"True Positives: {TP} | False Negatives: {FN}\")\n",
    "\n",
    "sensitivity = sensitivity_score(TP, FN)\n",
    "print(\"Sensitivity (TP/(Fraud Transactions)): %.2f\"%(sensitivity))\n",
    "\n",
    "# ROC-AUC Score\n",
    "roc_auc = roc_auc_score(y_half2_test, y_half2_pred_rf)\n",
    "print('\\nROC-AUC Score: %.2f' %(roc_auc))"
   ]
  },
  {
   "cell_type": "code",
   "execution_count": 352,
   "metadata": {
    "code_folding": [
     0
    ]
   },
   "outputs": [
    {
     "name": "stdout",
     "output_type": "stream",
     "text": [
      "ROC-AUC-Scores: [0.8852318329843077, 0.8688102530512838, 0.8870827051426464, 0.8628610186537461]\n",
      "Mean ROC-AUC-Score: 0.88\n"
     ]
    }
   ],
   "source": [
    "# 4-fold Cross-Validation\n",
    "cv = StratifiedKFold(n_splits=4,shuffle=True)\n",
    "aucs = CV(X_half2, y_half2, clf_rf, cv)\n",
    "mean_auc = sum(aucs)/len(aucs)\n",
    "print(\"ROC-AUC-Scores:\", aucs)\n",
    "print(\"Mean ROC-AUC-Score: %.2f\"% (mean_auc))"
   ]
  },
  {
   "cell_type": "markdown",
   "metadata": {},
   "source": [
    "## 1:3 Split"
   ]
  },
  {
   "cell_type": "markdown",
   "metadata": {},
   "source": [
    "As a next step we split the dataset into 1/4th of the data and run the model on the subdataset. We will not evaluate the \"3/4th dataset\", since the accuracy of the model on the smaller \"50:50 dataset\" did not differ from the complete dataset significantly. However, this time we will use a **'test_size' of 0.50** to decrease the train data further."
   ]
  },
  {
   "cell_type": "code",
   "execution_count": 466,
   "metadata": {
    "code_folding": [
     0
    ]
   },
   "outputs": [],
   "source": [
    "# Split the dataset\n",
    "split = int(len(non_fraud_df)*3/4)\n",
    "nfraud_3_4 = non_fraud_df[:split]\n",
    "nfraud_1_4 = non_fraud_df[split:]\n",
    "\n",
    "split = int(len(fraud_df)*3/4)\n",
    "fraud_3_4 = fraud_df[:split]\n",
    "fraud_1_4 = fraud_df[split:]\n",
    "\n",
    "df_3_4 = nfraud_3_4.append(fraud_3_4)\n",
    "df_3_4 = df_3_4.sample(frac=1).reset_index()\n",
    "\n",
    "df_1_4 = nfraud_1_4.append(fraud_1_4)\n",
    "df_1_4 = df_1_4.sample(frac=1).reset_index()"
   ]
  },
  {
   "cell_type": "code",
   "execution_count": 467,
   "metadata": {
    "code_folding": []
   },
   "outputs": [
    {
     "name": "stdout",
     "output_type": "stream",
     "text": [
      "Number of observations df_3_4: n = 213605\n",
      "Number of observations df_1_4: n = 71202\n"
     ]
    }
   ],
   "source": [
    "# Check number of observations\n",
    "print(\"Number of observations df_3_4: n =\", len(df_3_4))\n",
    "print(\"Number of observations df_1_4: n =\", len(df_1_4))"
   ]
  },
  {
   "cell_type": "markdown",
   "metadata": {},
   "source": [
    "### Train-Test Split"
   ]
  },
  {
   "cell_type": "markdown",
   "metadata": {},
   "source": [
    "As mentioned before we will only run the model on the 1/4th dataset and keep the test_size at 0.25."
   ]
  },
  {
   "cell_type": "markdown",
   "metadata": {},
   "source": [
    "##### df 1/4"
   ]
  },
  {
   "cell_type": "code",
   "execution_count": 468,
   "metadata": {
    "code_folding": [
     0
    ]
   },
   "outputs": [],
   "source": [
    "# Split dataset into predictors and target: X_1_4, y_1_4\n",
    "X_1_4 = df_1_4.drop('Class', axis=1).copy()\n",
    "y_1_4 = df_1_4['Class'].copy()"
   ]
  },
  {
   "cell_type": "code",
   "execution_count": 469,
   "metadata": {
    "code_folding": [
     0
    ]
   },
   "outputs": [
    {
     "name": "stdout",
     "output_type": "stream",
     "text": [
      "Number of train set observations: n = 35601\n",
      "Number of test set observations: n = 35601\n",
      "Fraud Ratio: 0.001741524114491166\n"
     ]
    }
   ],
   "source": [
    "# Create Train-Test-Split: test_size=0.50\n",
    "X_1_4_train, X_1_4_test, y_1_4_train, y_1_4_test = train_test_split(X_1_4, y_1_4, test_size=0.5, random_state=0, stratify=y_1_4) \n",
    "\n",
    "#Check fraud ratio\n",
    "print(\"Number of train set observations: n =\", len(X_1_4_train))\n",
    "print(\"Number of test set observations: n =\", len(X_1_4_test))\n",
    "print(\"Fraud Ratio:\", sum(y_1_4_train)/len(X_1_4_train))"
   ]
  },
  {
   "cell_type": "markdown",
   "metadata": {},
   "source": [
    "### Random Forest Model Run"
   ]
  },
  {
   "cell_type": "markdown",
   "metadata": {},
   "source": [
    "##### df 1/4"
   ]
  },
  {
   "cell_type": "markdown",
   "metadata": {},
   "source": [
    "We will again fit the same Random Forest classifier to the split dataset that was applied to the complete dataset, so we do not need to initialize a new classifier object."
   ]
  },
  {
   "cell_type": "code",
   "execution_count": 470,
   "metadata": {
    "scrolled": true
   },
   "outputs": [
    {
     "data": {
      "text/plain": [
       "RandomForestClassifier(bootstrap=True, ccp_alpha=0.0, class_weight=None,\n",
       "                       criterion='gini', max_depth=None, max_features='auto',\n",
       "                       max_leaf_nodes=None, max_samples=None,\n",
       "                       min_impurity_decrease=0.0, min_impurity_split=None,\n",
       "                       min_samples_leaf=1, min_samples_split=2,\n",
       "                       min_weight_fraction_leaf=0.0, n_estimators=100, n_jobs=8,\n",
       "                       oob_score=False, random_state=42, verbose=False,\n",
       "                       warm_start=False)"
      ]
     },
     "execution_count": 470,
     "metadata": {},
     "output_type": "execute_result"
    }
   ],
   "source": [
    "# Fit Random Forest Model\n",
    "clf_rf.fit(X_1_4_train, y_1_4_train)"
   ]
  },
  {
   "cell_type": "code",
   "execution_count": 471,
   "metadata": {
    "code_folding": [
     0
    ]
   },
   "outputs": [
    {
     "name": "stdout",
     "output_type": "stream",
     "text": [
      "Confusion Matrix\n",
      "–––––––––––––––––––––––––\n",
      "Dataset: 1/4th\n",
      "Model: Random Forest\n"
     ]
    },
    {
     "data": {
      "text/plain": [
       "<sklearn.metrics._plot.confusion_matrix.ConfusionMatrixDisplay at 0x7fc535247e10>"
      ]
     },
     "execution_count": 471,
     "metadata": {},
     "output_type": "execute_result"
    },
    {
     "data": {
      "image/png": "[encoded data removed]",
      "text/plain": [
       "<Figure size 432x288 with 2 Axes>"
      ]
     },
     "metadata": {
      "needs_background": "light"
     },
     "output_type": "display_data"
    }
   ],
   "source": [
    "# Plot normalized confusion matrix\n",
    "print(\"Confusion Matrix\")\n",
    "print(\"–––––––––––––––––––––––––\")\n",
    "print(\"Dataset: 1/4th\")\n",
    "print(\"Model: Random Forest\")\n",
    "plot_confusion_matrix(\n",
    "    clf_rf,\n",
    "    X_1_4_test,\n",
    "    y_1_4_test,\n",
    "    normalize='true',\n",
    "    cmap=plt.cm.Blues,\n",
    "    values_format = '.2f',\n",
    "    display_labels=[\"No Fraud\", \"Fraud\"]\n",
    ")"
   ]
  },
  {
   "cell_type": "code",
   "execution_count": 472,
   "metadata": {
    "code_folding": [
     0
    ]
   },
   "outputs": [
    {
     "name": "stdout",
     "output_type": "stream",
     "text": [
      "True Positives: 45 | False Negatives: 16\n",
      "Sensitivity (TP/(Fraud Transactions)): 0.74\n",
      "\n",
      "ROC-AUC Score: 0.87\n"
     ]
    }
   ],
   "source": [
    "# Evaluation Metrics\n",
    "y_1_4_pred_rf = clf_rf.predict(X_1_4_test)\n",
    "\n",
    "# True Positives and False Negatives\n",
    "TP, FP, TN, FN = perf_measure(np.array(y_1_4_test), y_1_4_pred_rf)\n",
    "print(f\"True Positives: {TP} | False Negatives: {FN}\")\n",
    "\n",
    "sensitivity = sensitivity_score(TP, FN)\n",
    "print(\"Sensitivity (TP/(Fraud Transactions)): %.2f\"%(sensitivity))\n",
    "\n",
    "# ROC-AUC Score\n",
    "roc_auc = roc_auc_score(y_1_4_test, y_1_4_pred_rf)\n",
    "print('\\nROC-AUC Score: %.2f' %(roc_auc))"
   ]
  },
  {
   "cell_type": "code",
   "execution_count": 484,
   "metadata": {
    "code_folding": [
     0
    ],
    "scrolled": true
   },
   "outputs": [
    {
     "name": "stdout",
     "output_type": "stream",
     "text": [
      "ROC-AUC-Scores: [0.8687961843962473, 0.895133152220777, 0.8687961843962473, 0.8870827051426464]\n",
      "Mean ROC-AUC-Score: 0.88\n"
     ]
    }
   ],
   "source": [
    "# 2x 2-fold Cross-Validation\n",
    "cv = StratifiedKFold(n_splits=2,shuffle=True)\n",
    "aucs1 = CV(X_1_4, y_1_4, clf_rf, cv)\n",
    "cv = StratifiedKFold(n_splits=2,shuffle=True)\n",
    "aucs2 = CV(X_1_4, y_1_4, clf_rf, cv)\n",
    "aucs= aucs1+aucs2\n",
    "mean_auc = sum(aucs)/len(aucs)\n",
    "print(\"ROC-AUC-Scores:\", aucs)\n",
    "print(\"Mean ROC-AUC-Score: %.2f\"% (mean_auc))"
   ]
  },
  {
   "cell_type": "markdown",
   "metadata": {},
   "source": [
    "### Interim Conclusion"
   ]
  },
  {
   "cell_type": "markdown",
   "metadata": {},
   "source": [
    "The accuracy of the Random Forest Model seems to decline when decreasing the train data. However, decreasing the dataset even more in size may lead to highly varying prediction accuracies due to the lack of sufficient fraudulent observations in the train or in the test data.\n",
    "\n",
    "Additionally, a fraud-percentage of only 0.17% is rather rare in an insurance industry scenario. Thus we can test a smaller dataset by increasing the fraudulent observations in the dataset. This will come more close to a realistic insurence use case."
   ]
  },
  {
   "cell_type": "markdown",
   "metadata": {},
   "source": [
    "## Higher Fraud Percentage"
   ]
  },
  {
   "cell_type": "markdown",
   "metadata": {},
   "source": [
    "In this section we will proceed to add all available fraudulent transactions to the smaller (non-fraud) dataset, thus increasing the **fraud-percentage to 0.69%**. Furthermore we will significantly decrease the train data and increase the new/test data, by setting the **'test_size' to 0.9**.\n",
    "\n",
    "As a result we see that this approach results in a significant increase of the AUC of the model, noting that the train size is only n=7157 observations and by having very large test set (n=64414) at the same time."
   ]
  },
  {
   "cell_type": "code",
   "execution_count": 511,
   "metadata": {},
   "outputs": [],
   "source": [
    "# Include all fraudulent observations in the small dataset (1/4th)\n",
    "df_high_fr = nfraud_1_4.append(fraud_df)\n",
    "df_high_fr = df_high_fr.sample(frac=1).reset_index()"
   ]
  },
  {
   "cell_type": "code",
   "execution_count": 513,
   "metadata": {
    "code_folding": [
     0
    ],
    "scrolled": true
   },
   "outputs": [
    {
     "name": "stdout",
     "output_type": "stream",
     "text": [
      "Fraud Ratio: 0.006874292660435093\n"
     ]
    }
   ],
   "source": [
    "# Split dataset into predictors and target\n",
    "X_high_fr = df_high_fr.drop('Class', axis=1).copy()\n",
    "y_high_fr = df_high_fr['Class'].copy()\n",
    "\n",
    "print(\"Fraud Ratio:\", sum(y_high_fr)/len(X_high_fr))"
   ]
  },
  {
   "cell_type": "code",
   "execution_count": 517,
   "metadata": {
    "code_folding": [
     0
    ]
   },
   "outputs": [
    {
     "name": "stdout",
     "output_type": "stream",
     "text": [
      "Number of train set observations: n = 7157\n",
      "Number of test set observations: n = 64414\n",
      "Fraud Ratio: 0.0068464440407992174\n"
     ]
    }
   ],
   "source": [
    "# Train-Test-Split: test_size=0.90\n",
    "X_high_fr_train, X_high_fr_test, y_high_fr_train, y_high_fr_test = train_test_split(X_high_fr, y_high_fr, test_size=0.9, stratify=y_high_fr) \n",
    "\n",
    "#Check fraud ratio\n",
    "print(\"Number of train set observations: n =\", len(X_high_fr_train))\n",
    "print(\"Number of test set observations: n =\", len(X_high_fr_test))\n",
    "print(\"Fraud Ratio:\", sum(y_high_fr_train)/len(X_high_fr_train))"
   ]
  },
  {
   "cell_type": "code",
   "execution_count": 518,
   "metadata": {
    "code_folding": [
     0
    ]
   },
   "outputs": [
    {
     "data": {
      "text/plain": [
       "RandomForestClassifier(bootstrap=True, ccp_alpha=0.0, class_weight=None,\n",
       "                       criterion='gini', max_depth=None, max_features='auto',\n",
       "                       max_leaf_nodes=None, max_samples=None,\n",
       "                       min_impurity_decrease=0.0, min_impurity_split=None,\n",
       "                       min_samples_leaf=1, min_samples_split=2,\n",
       "                       min_weight_fraction_leaf=0.0, n_estimators=100, n_jobs=8,\n",
       "                       oob_score=False, random_state=42, verbose=False,\n",
       "                       warm_start=False)"
      ]
     },
     "execution_count": 518,
     "metadata": {},
     "output_type": "execute_result"
    }
   ],
   "source": [
    "# Fit Random Forest Model\n",
    "clf_rf.fit(X_1_4_fr_train, y_1_4_fr_train)"
   ]
  },
  {
   "cell_type": "code",
   "execution_count": 525,
   "metadata": {
    "code_folding": [
     0
    ]
   },
   "outputs": [
    {
     "name": "stdout",
     "output_type": "stream",
     "text": [
      "Confusion Matrix\n",
      "–––––––––––––––––––––––––\n",
      "Dataset: 1/4th, high fraud-percentage, test_size=0.9\n",
      "Model: Random Forest\n"
     ]
    },
    {
     "data": {
      "text/plain": [
       "<sklearn.metrics._plot.confusion_matrix.ConfusionMatrixDisplay at 0x7fc5234493d0>"
      ]
     },
     "execution_count": 525,
     "metadata": {},
     "output_type": "execute_result"
    },
    {
     "data": {
      "image/png": "[encoded data removed]",
      "text/plain": [
       "<Figure size 432x288 with 2 Axes>"
      ]
     },
     "metadata": {
      "needs_background": "light"
     },
     "output_type": "display_data"
    }
   ],
   "source": [
    "# Plot normalized confusion matrix\n",
    "print(\"Confusion Matrix\")\n",
    "print(\"–––––––––––––––––––––––––\")\n",
    "print(\"Dataset: 1/4th, high fraud-percentage, test_size=0.9\")\n",
    "print(\"Model: Random Forest\")\n",
    "plot_confusion_matrix(\n",
    "    clf_rf,\n",
    "    X_high_fr_test,\n",
    "    y_high_fr_test,\n",
    "    normalize='true',\n",
    "    cmap=plt.cm.Blues,\n",
    "    values_format = '.2f',\n",
    "    display_labels=[\"No Fraud\", \"Fraud\"]\n",
    ")"
   ]
  },
  {
   "cell_type": "code",
   "execution_count": 524,
   "metadata": {
    "code_folding": [
     0
    ]
   },
   "outputs": [
    {
     "name": "stdout",
     "output_type": "stream",
     "text": [
      "True Positives: 420 | False Negatives: 23\n",
      "Sensitivity (TP/(Fraud Transactions)): 0.95\n",
      "\n",
      "ROC-AUC Score: 0.97\n"
     ]
    }
   ],
   "source": [
    "# Evaluation Metrics\n",
    "y_high_fr_pred_rf = clf_rf.predict(X_high_fr_test)\n",
    "\n",
    "# True Positives and False Negatives\n",
    "TP, FP, TN, FN = perf_measure(np.array(y_high_fr_test), y_high_fr_pred_rf)\n",
    "print(f\"True Positives: {TP} | False Negatives: {FN}\")\n",
    "\n",
    "sensitivity = sensitivity_score(TP, FN)\n",
    "print(\"Sensitivity (TP/(Fraud Transactions)): %.2f\"%(sensitivity))\n",
    "\n",
    "# ROC-AUC Score\n",
    "roc_auc = roc_auc_score(y_high_fr_test, y_high_fr_pred_rf)\n",
    "print('\\nROC-AUC Score: %.2f' %(roc_auc))"
   ]
  },
  {
   "cell_type": "markdown",
   "metadata": {},
   "source": [
    "# Result and Final Comparison"
   ]
  },
  {
   "cell_type": "markdown",
   "metadata": {},
   "source": [
    "The analysis started by testing three different Machine Learning model and applying it to the given credit card fraud dataset, in order to identify a suitable model to test the application of a Federated Learning approach on a fraud detection scenario.\n",
    "\n",
    "After chosing the Random Forest as the classifier which will be used, the dataset was first divided into two halves (50:50 split) and further subdivided into one third (1:3 split). In these cases, the model performance seems to decrease slightly every time the dataset is made smaller. \n",
    "\n",
    "Finally, the dataset cannot be split more into smaller subsets, since the total amount of fraudulent observations would be insufficient in order to draw a conclusion with high certainty, without the influence of random factors. Thus, the number of fraudulent observaions is increased in the smaller (1:3) dataset, increasing the fraud-percentage from **0.17% to 0.69%**. Moreover, the train size will be significantly decreased to just n=7157 observations. This test case also comes closer to a more realisitc scenario of a small insurer, which may have less data and more fraudulent observations. When running the model on that dataset, the highest AUC so far is achieved with a **ROC-AUC-Score of 0.97**."
   ]
  },
  {
   "cell_type": "code",
   "execution_count": 528,
   "metadata": {
    "code_folding": [
     0
    ]
   },
   "outputs": [
    {
     "data": {
      "image/png": "[encoded data removed]",
      "text/plain": [
       "<Figure size 432x288 with 1 Axes>"
      ]
     },
     "metadata": {
      "needs_background": "light"
     },
     "output_type": "display_data"
    }
   ],
   "source": [
    "# Plot AUC different datasets\n",
    "plt.figure(0).clf()\n",
    "\n",
    "# half1\n",
    "fpr, tpr, thresh = roc_curve(y_test, y_pred_rf)\n",
    "auc = roc_auc_score(y_test, y_pred_rf)\n",
    "plt.plot(fpr,tpr,label=\"Complete df, AUC=\"+str(auc))\n",
    "\n",
    "# half1\n",
    "fpr, tpr, thresh = roc_curve(y_half1_test, y_half1_pred_rf)\n",
    "auc = roc_auc_score(y_half1_test, y_half1_pred_rf)\n",
    "plt.plot(fpr,tpr,label=\"df_half1, AUC=\"+str(auc))\n",
    "\n",
    "# 1/4\n",
    "fpr, tpr, thresh = roc_curve(y_1_4_test, y_1_4_pred_rf)\n",
    "auc = roc_auc_score(y_1_4_test, y_1_4_pred_rf)\n",
    "plt.plot(fpr,tpr,label=\"df_1_4, AUC=\"+str(auc))\n",
    "\n",
    "# Logistic Regression\n",
    "fpr, tpr, thresh = roc_curve(y_high_fr_test, y_high_fr_pred_rf)\n",
    "auc = roc_auc_score(y_high_fr_test, y_high_fr_pred_rf)\n",
    "plt.plot(fpr,tpr,label=\"df_high_fr., AUC=\"+str(auc))\n",
    "\n",
    "plt.legend(loc=0)\n",
    "\n",
    "plt.savefig('comparison.png')"
   ]
  }
 ],
 "metadata": {
  "kernelspec": {
   "display_name": "Python 3",
   "language": "python",
   "name": "python3"
  },
  "language_info": {
   "codemirror_mode": {
    "name": "ipython",
    "version": 3
   },
   "file_extension": ".py",
   "mimetype": "text/x-python",
   "name": "python",
   "nbconvert_exporter": "python",
   "pygments_lexer": "ipython3",
   "version": "3.7.9"
  }
 },
 "nbformat": 4,
 "nbformat_minor": 4
}
